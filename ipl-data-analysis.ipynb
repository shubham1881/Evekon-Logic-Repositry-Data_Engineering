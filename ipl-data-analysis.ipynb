{
 "cells": [
  {
   "cell_type": "code",
   "execution_count": 0,
   "metadata": {
    "application/vnd.databricks.v1+cell": {
     "cellMetadata": {
      "byteLimit": 2048000,
      "rowLimit": 10000
     },
     "inputWidgets": {},
     "nuid": "bf21675c-3271-48c9-a306-b2ca38ff1638",
     "showTitle": false,
     "title": ""
    }
   },
   "outputs": [],
   "source": [
    "from pyspark.sql import SparkSession\n",
    "from pyspark.sql.types import StructField,StructType,IntegerType,StringType,BooleanType,DateType,DecimalType,LongType\n",
    "from pyspark.sql.functions import col,when,sum,avg,row_number\n",
    "from pyspark.sql.window import Window\n",
    "\n",
    "\n",
    "#creating spark session manually\n",
    "spark=SparkSession.builder.appName(\"Ipl Data Analysis\").getOrCreate()"
   ]
  },
  {
   "cell_type": "code",
   "execution_count": 0,
   "metadata": {
    "application/vnd.databricks.v1+cell": {
     "cellMetadata": {
      "byteLimit": 2048000,
      "rowLimit": 10000
     },
     "inputWidgets": {},
     "nuid": "de37d060-3f1a-404f-a94b-a39a69d588e9",
     "showTitle": false,
     "title": ""
    }
   },
   "outputs": [
    {
     "output_type": "stream",
     "name": "stdout",
     "output_type": "stream",
     "text": [
      "Out[105]: [(1, 1), (2, 1), (3, 1), (4, 1), (5, 1), (6, 1), (7, 1), (8, 1), (9, 1)]"
     ]
    }
   ],
   "source": [
    "sparkContext=spark.sparkContext\n",
    "\n",
    "rdd1=sparkContext.parallelize([1,2,3,4,5,6,7,8,9])\n",
    "rdd2=rdd1.map(lambda x:(x,1))\n",
    "\n",
    "rdd2.collect()"
   ]
  },
  {
   "cell_type": "code",
   "execution_count": 0,
   "metadata": {
    "application/vnd.databricks.v1+cell": {
     "cellMetadata": {
      "byteLimit": 2048000,
      "rowLimit": 10000
     },
     "inputWidgets": {},
     "nuid": "9095d6a9-da76-4c0e-abfd-30f235554012",
     "showTitle": false,
     "title": ""
    }
   },
   "outputs": [
    {
     "output_type": "stream",
     "name": "stdout",
     "output_type": "stream",
     "text": [
      "+--------+-------+-------+----------+------------+------------+------------------------+----------+-----------+----------+-----+-------+----+-------+-------+-------------+--------------+------+------+-------+----+------------+-------+-----------------+----------+----------------+-------------+----------+------+-------+-----------+------+----------+--------+----------------+---------+-------------------+-------------+----------------+----------+---------------+---------+------------------+--------------+--------------+------------+-------------+-----------+\n|match_id|over_id|ball_id|innings_no|team_batting|team_bowling|striker_batting_position|extra_type|runs_scored|extra_runs|wides|legbyes|byes|noballs|penalty|bowler_extras|      out_type|caught|bowled|run_out| lbw|retired_hurt|stumped|caught_and_bowled|hit_wicket|obstructingfeild|bowler_wicket|match_date|season|striker|non_striker|bowler|player_out|fielders|striker_match_sk|strikersk|nonstriker_match_sk|nonstriker_sk|fielder_match_sk|fielder_sk|bowler_match_sk|bowler_sk|playerout_match_sk|battingteam_sk|bowlingteam_sk|keeper_catch|player_out_sk|matchdatesk|\n+--------+-------+-------+----------+------------+------------+------------------------+----------+-----------+----------+-----+-------+----+-------+-------+-------------+--------------+------+------+-------+----+------------+-------+-----------------+----------+----------------+-------------+----------+------+-------+-----------+------+----------+--------+----------------+---------+-------------------+-------------+----------------+----------+---------------+---------+------------------+--------------+--------------+------------+-------------+-----------+\n|  598028|     15|      6|         1|           5|           2|                       6| No Extras|          4|         0|    0|      0|   0|      0|      0|            0|Not Applicable|  null|  null|   null|null|        null|   null|             null|      null|            null|         null|      null|  2013|    277|        104|    83|      null|    null|           20336|      276|              20333|          103|              -1|        -1|          20343|       82|                -1|             4|             1|        null|            0|       null|\n|  598028|     14|      1|         1|           5|           2|                       5| No Extras|          1|         0|    0|      0|   0|      0|      0|            0|Not Applicable|  null|  null|   null|null|        null|   null|             null|      null|            null|         null|      null|  2013|    104|          6|   346|      null|    null|           20333|      103|              20328|            5|              -1|        -1|          20348|      345|                -1|             4|             1|        null|            0|       null|\n|  598028|     14|      2|         1|           5|           2|                       3| No Extras|          1|         0|    0|      0|   0|      0|      0|            0|Not Applicable|  null|  null|   null|null|        null|   null|             null|      null|            null|         null|      null|  2013|      6|        104|   346|      null|    null|           20328|        5|              20333|          103|              -1|        -1|          20348|      345|                -1|             4|             1|        null|            0|       null|\n|  598028|     14|      3|         1|           5|           2|                       5| No Extras|          1|         0|    0|      0|   0|      0|      0|            0|Not Applicable|  null|  null|   null|null|        null|   null|             null|      null|            null|         null|      null|  2013|    104|          6|   346|      null|    null|           20333|      103|              20328|            5|              -1|        -1|          20348|      345|                -1|             4|             1|        null|            0|       null|\n|  598028|     14|      4|         1|           5|           2|                       3| No Extras|          0|         0|    0|      0|   0|      0|      0|            0|Not Applicable|  null|  null|   null|null|        null|   null|             null|      null|            null|         null|      null|  2013|      6|        104|   346|      null|    null|           20328|        5|              20333|          103|              -1|        -1|          20348|      345|                -1|             4|             1|        null|            0|       null|\n|  598028|     14|      5|         1|           5|           2|                       3| No Extras|          4|         0|    0|      0|   0|      0|      0|            0|Not Applicable|  null|  null|   null|null|        null|   null|             null|      null|            null|         null|      null|  2013|      6|        104|   346|      null|    null|           20328|        5|              20333|          103|              -1|        -1|          20348|      345|                -1|             4|             1|        null|            0|       null|\n|  598028|     14|      6|         1|           5|           2|                       3| No Extras|          2|         0|    0|      0|   0|      0|      0|            0|Not Applicable|  null|  null|   null|null|        null|   null|             null|      null|            null|         null|      null|  2013|      6|        104|   346|      null|    null|           20328|        5|              20333|          103|              -1|        -1|          20348|      345|                -1|             4|             1|        null|            0|       null|\n|  598028|     13|      1|         1|           5|           2|                       5| No Extras|          1|         0|    0|      0|   0|      0|      0|            0|Not Applicable|  null|  null|   null|null|        null|   null|             null|      null|            null|         null|      null|  2013|    104|          6|    83|      null|    null|           20333|      103|              20328|            5|              -1|        -1|          20343|       82|                -1|             4|             1|        null|            0|       null|\n|  598028|     13|      2|         1|           5|           2|                       3| No Extras|          4|         0|    0|      0|   0|      0|      0|            0|Not Applicable|  null|  null|   null|null|        null|   null|             null|      null|            null|         null|      null|  2013|      6|        104|    83|      null|    null|           20328|        5|              20333|          103|              -1|        -1|          20343|       82|                -1|             4|             1|        null|            0|       null|\n|  598028|     13|      3|         1|           5|           2|                       3| No Extras|          1|         0|    0|      0|   0|      0|      0|            0|Not Applicable|  null|  null|   null|null|        null|   null|             null|      null|            null|         null|      null|  2013|      6|        104|    83|      null|    null|           20328|        5|              20333|          103|              -1|        -1|          20343|       82|                -1|             4|             1|        null|            0|       null|\n|  598028|     13|      4|         1|           5|           2|                       5| No Extras|          0|         0|    0|      0|   0|      0|      0|            0|Not Applicable|  null|  null|   null|null|        null|   null|             null|      null|            null|         null|      null|  2013|    104|          6|    83|      null|    null|           20333|      103|              20328|            5|              -1|        -1|          20343|       82|                -1|             4|             1|        null|            0|       null|\n|  598028|     13|      5|         1|           5|           2|                       5| No Extras|          0|         0|    0|      0|   0|      0|      0|            0|Not Applicable|  null|  null|   null|null|        null|   null|             null|      null|            null|         null|      null|  2013|    104|          6|    83|      null|    null|           20333|      103|              20328|            5|              -1|        -1|          20343|       82|                -1|             4|             1|        null|            0|       null|\n|  598028|     13|      6|         1|           5|           2|                       5| No Extras|          1|         0|    0|      0|   0|      0|      0|            0|Not Applicable|  null|  null|   null|null|        null|   null|             null|      null|            null|         null|      null|  2013|    104|          6|    83|      null|    null|           20333|      103|              20328|            5|              -1|        -1|          20343|       82|                -1|             4|             1|        null|            0|       null|\n|  598028|     12|      1|         1|           5|           2|                       3| No Extras|          1|         0|    0|      0|   0|      0|      0|            0|Not Applicable|  null|  null|   null|null|        null|   null|             null|      null|            null|         null|      null|  2013|      6|        104|   346|      null|    null|           20328|        5|              20333|          103|              -1|        -1|          20348|      345|                -1|             4|             1|        null|            0|       null|\n|  598028|     12|      2|         1|           5|           2|                       5| No Extras|          0|         0|    0|      0|   0|      0|      0|            0|Not Applicable|  null|  null|   null|null|        null|   null|             null|      null|            null|         null|      null|  2013|    104|          6|   346|      null|    null|           20333|      103|              20328|            5|              -1|        -1|          20348|      345|                -1|             4|             1|        null|            0|       null|\n|  598028|     12|      3|         1|           5|           2|                       5| No Extras|          1|         0|    0|      0|   0|      0|      0|            0|Not Applicable|  null|  null|   null|null|        null|   null|             null|      null|            null|         null|      null|  2013|    104|          6|   346|      null|    null|           20333|      103|              20328|            5|              -1|        -1|          20348|      345|                -1|             4|             1|        null|            0|       null|\n|  598028|     12|      4|         1|           5|           2|                       3| No Extras|          1|         0|    0|      0|   0|      0|      0|            0|Not Applicable|  null|  null|   null|null|        null|   null|             null|      null|            null|         null|      null|  2013|      6|        104|   346|      null|    null|           20328|        5|              20333|          103|              -1|        -1|          20348|      345|                -1|             4|             1|        null|            0|       null|\n|  598028|     12|      5|         1|           5|           2|                       5| No Extras|          0|         0|    0|      0|   0|      0|      0|            0|Not Applicable|  null|  null|   null|null|        null|   null|             null|      null|            null|         null|      null|  2013|    104|          6|   346|      null|    null|           20333|      103|              20328|            5|              -1|        -1|          20348|      345|                -1|             4|             1|        null|            0|       null|\n|  598028|     12|      6|         1|           5|           2|                       5| No Extras|          1|         0|    0|      0|   0|      0|      0|            0|Not Applicable|  null|  null|   null|null|        null|   null|             null|      null|            null|         null|      null|  2013|    104|          6|   346|      null|    null|           20333|      103|              20328|            5|              -1|        -1|          20348|      345|                -1|             4|             1|        null|            0|       null|\n|  598028|     11|      1|         1|           5|           2|                       5| No Extras|          0|         0|    0|      0|   0|      0|      0|            0|Not Applicable|  null|  null|   null|null|        null|   null|             null|      null|            null|         null|      null|  2013|    104|          6|    83|      null|    null|           20333|      103|              20328|            5|              -1|        -1|          20343|       82|                -1|             4|             1|        null|            0|       null|\n+--------+-------+-------+----------+------------+------------+------------------------+----------+-----------+----------+-----+-------+----+-------+-------+-------------+--------------+------+------+-------+----+------------+-------+-----------------+----------+----------------+-------------+----------+------+-------+-----------+------+----------+--------+----------------+---------+-------------------+-------------+----------------+----------+---------------+---------+------------------+--------------+--------------+------------+-------------+-----------+\nonly showing top 20 rows\n\n"
     ]
    }
   ],
   "source": [
    "ball_by_ball_schema = StructType([\n",
    "    StructField(\"match_id\", IntegerType(), True),\n",
    "    StructField(\"over_id\", IntegerType(), True),\n",
    "    StructField(\"ball_id\", IntegerType(), True),\n",
    "    StructField(\"innings_no\", IntegerType(), True),\n",
    "    StructField(\"team_batting\", StringType(), True),\n",
    "    StructField(\"team_bowling\", StringType(), True),\n",
    "    StructField(\"striker_batting_position\", IntegerType(), True),\n",
    "    StructField(\"extra_type\", StringType(), True),\n",
    "    StructField(\"runs_scored\", IntegerType(), True),    \n",
    "    StructField(\"extra_runs\", IntegerType(), True),\n",
    "    StructField(\"wides\", IntegerType(), True),\n",
    "    StructField(\"legbyes\", IntegerType(), True),\n",
    "    StructField(\"byes\", IntegerType(), True),\n",
    "    StructField(\"noballs\", IntegerType(), True),\n",
    "    StructField(\"penalty\", IntegerType(), True),\n",
    "    StructField(\"bowler_extras\", IntegerType(), True),\n",
    "    StructField(\"out_type\", StringType(), True),\n",
    "    StructField(\"caught\", BooleanType(), True),\n",
    "    StructField(\"bowled\", BooleanType(), True),\n",
    "    StructField(\"run_out\", BooleanType(), True),\n",
    "    StructField(\"lbw\", BooleanType(), True),\n",
    "    StructField(\"retired_hurt\", BooleanType(), True),\n",
    "    StructField(\"stumped\", BooleanType(), True),\n",
    "    StructField(\"caught_and_bowled\", BooleanType(), True),\n",
    "    StructField(\"hit_wicket\", BooleanType(), True),\n",
    "    StructField(\"obstructingfeild\", BooleanType(), True),\n",
    "    StructField(\"bowler_wicket\", BooleanType(), True),\n",
    "    StructField(\"match_date\", DateType(), True),\n",
    "    StructField(\"season\", IntegerType(), True),\n",
    "    StructField(\"striker\", IntegerType(), True),\n",
    "    StructField(\"non_striker\", IntegerType(), True),\n",
    "    StructField(\"bowler\", IntegerType(), True),\n",
    "    StructField(\"player_out\", IntegerType(), True),\n",
    "    StructField(\"fielders\", IntegerType(), True),\n",
    "    StructField(\"striker_match_sk\", IntegerType(), True),\n",
    "    StructField(\"strikersk\", IntegerType(), True),\n",
    "    StructField(\"nonstriker_match_sk\", IntegerType(), True),\n",
    "    StructField(\"nonstriker_sk\", IntegerType(), True),\n",
    "    StructField(\"fielder_match_sk\", IntegerType(), True),\n",
    "    StructField(\"fielder_sk\", IntegerType(), True),\n",
    "    StructField(\"bowler_match_sk\", IntegerType(), True),\n",
    "    StructField(\"bowler_sk\", IntegerType(), True),\n",
    "    StructField(\"playerout_match_sk\", IntegerType(), True),\n",
    "    StructField(\"battingteam_sk\", IntegerType(), True),\n",
    "    StructField(\"bowlingteam_sk\", IntegerType(), True),\n",
    "    StructField(\"keeper_catch\", BooleanType(), True),\n",
    "    StructField(\"player_out_sk\", IntegerType(), True),\n",
    "    StructField(\"matchdatesk\", DateType(), True)\n",
    "])\n",
    "     \n",
    "ball_by_ball_df=spark.read.schema(ball_by_ball_schema).format(\"csv\").option(\"header\",\"true\").load(\"s3://ipl-data-analysis-project/Ball_By_Ball.csv\") \n",
    "ball_by_ball_df.show()\n",
    "\n",
    "#filtering and getting only valid delivery\n",
    "#ball_by_ball_df_new=ball_by_ball_df.filter((col(\"wides\")==0) & (col(\"noballs\")==0))\n",
    "#ball_by_ball_df_new.show()\n"
   ]
  },
  {
   "cell_type": "code",
   "execution_count": 0,
   "metadata": {
    "application/vnd.databricks.v1+cell": {
     "cellMetadata": {
      "byteLimit": 2048000,
      "rowLimit": 10000
     },
     "inputWidgets": {},
     "nuid": "f117fd14-281f-480d-97a2-10f4d445c73e",
     "showTitle": false,
     "title": ""
    }
   },
   "outputs": [
    {
     "output_type": "stream",
     "name": "stdout",
     "output_type": "stream",
     "text": [
      "+-----------------+----------------+----------------+--------------------+-------+\n|             name|        language|              id|                 bio|version|\n+-----------------+----------------+----------------+--------------------+-------+\n|    Adeel Solangi|          Sindhi|V59OF92YF627HFY0|Donec lobortis el...|    6.1|\n|    Afzal Ghaffar|          Sindhi|ENTOCR13RSCLZ6KU|Aliquam sollicitu...|   1.88|\n|    Aamir Solangi|          Sindhi|IAKPO3R4761JDRVG|Vestibulum pharet...|   7.27|\n|    Abla Dilmurat|          Uyghur|5ZVOEPMJUI4MB4EN|Donec lobortis el...|   2.53|\n|         Adil Eli|          Uyghur|6VTI8X6LL0MMPJCC|Vivamus id faucib...|   6.49|\n|      Adile Qadir|          Uyghur|F2KEU5L7EHYSYFTT|Duis commodo orci...|    1.9|\n|Abdukerim Ibrahim|          Uyghur|LO6DVTZLRK68528I|Vivamus id faucib...|    5.9|\n|        Adil Abro|          Sindhi|LJRIULRNJFCNZJAJ|Etiam malesuada b...|   9.32|\n| Afonso Vilarchán|        Galician|JMCL0CXNXHPL1GBC|Fusce eu ultrices...|   5.21|\n|    Mark Schembri|         Maltese|KU4T500C830697CW|Nam laoreet, nunc...|   3.17|\n|    Antía Sixirei|        Galician|XOF91ZR7MHV1TXRS|Pellentesque mass...|   6.44|\n|   Aygul Mutellip|          Uyghur|FTSNV411G5MKLPDT|Duis commodo orci...|    9.1|\n|     Awais Shaikh|          Sindhi|OJMWMEEQWMLDU29P|Nunc aliquet soda...|   1.59|\n|    Ambreen Ahmed|          Sindhi|5G646V7E6TJW8X2M|Vestibulum ante i...|   2.35|\n|      Celtia Anes|        Galician|Z53AJY7WUYPLAWC9|Nullam ac sodales...|   8.34|\n|    George Mifsud|         Maltese|N1AS6UFULO6WGTLB|Phasellus tincidu...|   7.47|\n|     Aytürk Qasim|          Uyghur|70RODUVRD95CLOJL|Curabitur ultrici...|   1.32|\n|       Dialè Meso|Sesotho sa Leboa|VBLI24FKF7VV6BWE|Maecenas non arcu...|   6.29|\n|    Breixo Galáns|        Galician|4VRLON0GPEZYFCVL|Integer vehicula,...|   1.62|\n|     Bieito Lorme|        Galician|5DRDI1QLRGLP29RC|Ut viverra quis e...|   4.45|\n+-----------------+----------------+----------------+--------------------+-------+\nonly showing top 20 rows\n\n"
     ]
    }
   ],
   "source": [
    "he_schema = StructType([\n",
    "    StructField(\"name\", StringType(), False),\n",
    "    StructField(\"language\", StringType(), False),\n",
    "    StructField(\"id\", StringType(), False),\n",
    "    StructField(\"bio\", StringType(), False),\n",
    "    StructField(\"version\", StringType(), False)\n",
    "])\n",
    "df_js=spark.read.schema(he_schema).option(\"multiline\",True).json(\"s3://public-evekon/json_data.json\")\n",
    "dt=df_js.na.drop(\"any\")\n",
    "\n",
    "\n",
    "#df_js.show()\n",
    "#dt.count()\n",
    "dt.show()"
   ]
  },
  {
   "cell_type": "code",
   "execution_count": 0,
   "metadata": {
    "application/vnd.databricks.v1+cell": {
     "cellMetadata": {
      "byteLimit": 2048000,
      "rowLimit": 10000
     },
     "inputWidgets": {},
     "nuid": "f89ac71e-e425-4399-b568-1cc579c5138c",
     "showTitle": false,
     "title": ""
    }
   },
   "outputs": [
    {
     "output_type": "stream",
     "name": "stdout",
     "output_type": "stream",
     "text": [
      "+--------+-----+--------+---------+-------+--------+---------+--------+---------------+---------------+-------+--------+----------------+\n|   price| area|bedrooms|bathrooms|stories|mainroad|guestroom|basement|hotwaterheating|airconditioning|parking|prefarea|furnishingstatus|\n+--------+-----+--------+---------+-------+--------+---------+--------+---------------+---------------+-------+--------+----------------+\n|13300000| 7420|       4|        2|      3|     yes|       no|      no|             no|            yes|      2|     yes|       furnished|\n|12250000| 8960|       4|        4|      4|     yes|       no|      no|             no|            yes|      3|      no|       furnished|\n|12250000| 9960|       3|        2|      2|     yes|       no|     yes|             no|             no|      2|     yes|  semi-furnished|\n|12215000| 7500|       4|        2|      2|     yes|       no|     yes|             no|            yes|      3|     yes|       furnished|\n|11410000| 7420|       4|        1|      2|     yes|      yes|     yes|             no|            yes|      2|      no|       furnished|\n|10850000| 7500|       3|        3|      1|     yes|       no|     yes|             no|            yes|      2|     yes|  semi-furnished|\n|10150000| 8580|       4|        3|      4|     yes|       no|      no|             no|            yes|      2|     yes|  semi-furnished|\n|10150000|16200|       5|        3|      2|     yes|       no|      no|             no|             no|      0|      no|     unfurnished|\n| 9870000| 8100|       4|        1|      2|     yes|      yes|     yes|             no|            yes|      2|     yes|       furnished|\n| 9800000| 5750|       3|        2|      4|     yes|      yes|      no|             no|            yes|      1|     yes|     unfurnished|\n| 9800000|13200|       3|        1|      2|     yes|       no|     yes|             no|            yes|      2|     yes|       furnished|\n| 9681000| 6000|       4|        3|      2|     yes|      yes|     yes|            yes|             no|      2|      no|  semi-furnished|\n| 9310000| 6550|       4|        2|      2|     yes|       no|      no|             no|            yes|      1|     yes|  semi-furnished|\n| 9240000| 3500|       4|        2|      2|     yes|       no|      no|            yes|             no|      2|      no|       furnished|\n| 9240000| 7800|       3|        2|      2|     yes|       no|      no|             no|             no|      0|     yes|  semi-furnished|\n| 9100000| 6000|       4|        1|      2|     yes|       no|     yes|             no|             no|      2|      no|  semi-furnished|\n| 9100000| 6600|       4|        2|      2|     yes|      yes|     yes|             no|            yes|      1|     yes|     unfurnished|\n| 8960000| 8500|       3|        2|      4|     yes|       no|      no|             no|            yes|      2|      no|       furnished|\n| 8890000| 4600|       3|        2|      2|     yes|      yes|      no|             no|            yes|      2|      no|       furnished|\n| 8855000| 6420|       3|        2|      2|     yes|       no|      no|             no|            yes|      1|     yes|  semi-furnished|\n+--------+-----+--------+---------+-------+--------+---------+--------+---------------+---------------+-------+--------+----------------+\nonly showing top 20 rows\n\n"
     ]
    }
   ],
   "source": [
    "house_schema = StructType([\n",
    "    StructField(\"price\", LongType(), True),\n",
    "    StructField(\"area\", LongType(), True),\n",
    "    StructField(\"bedrooms\", LongType(), True),\n",
    "    StructField(\"bathrooms\", LongType(), True),\n",
    "    StructField(\"stories\", LongType(), True),\n",
    "    StructField(\"mainroad\", StringType(), True),\n",
    "    StructField(\"guestroom\", StringType(), True),  \n",
    "    StructField(\"basement\", StringType(), True),\n",
    "    StructField(\"hotwaterheating\", StringType(), True),  \n",
    "    StructField(\"airconditioning\", StringType(), True),\n",
    "    StructField(\"parking\", LongType(), True),\n",
    "    StructField(\"prefarea\", StringType(), True), \n",
    "    StructField(\"furnishingstatus\", StringType(), True)\n",
    "])\n",
    "\n",
    "\n",
    "house_df=spark.read.schema(house_schema).format(\"parquet\").option(\"inferschema\",\"true\").load(\"s3://public-evekon/House price.parquet\") \n",
    "house_df.show()\n",
    "house_df.write.partitionBy(\"furnishingstatus\").mode(\"overwrite\").parquet(\"/FileStore/tables/\")"
   ]
  },
  {
   "cell_type": "code",
   "execution_count": 0,
   "metadata": {
    "application/vnd.databricks.v1+cell": {
     "cellMetadata": {
      "byteLimit": 2048000,
      "rowLimit": 10000
     },
     "inputWidgets": {},
     "nuid": "fa1eb159-eddb-4dd7-8416-b1894c6413b4",
     "showTitle": false,
     "title": ""
    }
   },
   "outputs": [
    {
     "output_type": "stream",
     "name": "stdout",
     "output_type": "stream",
     "text": [
      "== Physical Plan ==\nFileScan csv [match_sk#7231,match_id#7232,team1#7233,team2#7234,match_date#7235,season_year#7236,venue_name#7237,city_name#7238,country_name#7239,toss_winner#7240,match_winner#7241,toss_name#7242,win_type#7243,outcome_type#7244,manofmach#7245,win_margin#7246,country_id#7247] Batched: false, DataFilters: [], Format: CSV, Location: InMemoryFileIndex(1 paths)[s3://ipl-data-analysis-project/Match.csv], PartitionFilters: [], PushedFilters: [], ReadSchema: struct<match_sk:int,match_id:int,team1:string,team2:string,match_date:date,season_year:int,venue_...\n\n\n"
     ]
    }
   ],
   "source": [
    "match_schema = StructType([\n",
    "    StructField(\"match_sk\", IntegerType(), True),\n",
    "    StructField(\"match_id\", IntegerType(), True),\n",
    "    StructField(\"team1\", StringType(), True),\n",
    "    StructField(\"team2\", StringType(), True),\n",
    "    StructField(\"match_date\", DateType(), True),\n",
    "    StructField(\"season_year\", IntegerType(), True),\n",
    "    StructField(\"venue_name\", StringType(), True),\n",
    "    StructField(\"city_name\", StringType(), True),\n",
    "    StructField(\"country_name\", StringType(), True),\n",
    "    StructField(\"toss_winner\", StringType(), True),\n",
    "    StructField(\"match_winner\", StringType(), True),\n",
    "    StructField(\"toss_name\", StringType(), True),\n",
    "    StructField(\"win_type\", StringType(), True),\n",
    "    StructField(\"outcome_type\", StringType(), True),\n",
    "    StructField(\"manofmach\", StringType(), True),\n",
    "    StructField(\"win_margin\", IntegerType(), True),\n",
    "    StructField(\"country_id\", IntegerType(), True)\n",
    "])\n",
    "match_df = spark.read.schema(match_schema).format(\"csv\").option(\"header\",\"true\").load(\"s3://ipl-data-analysis-project/Match.csv\")\n",
    "match_df.explain()\n"
   ]
  },
  {
   "cell_type": "code",
   "execution_count": 0,
   "metadata": {
    "application/vnd.databricks.v1+cell": {
     "cellMetadata": {
      "byteLimit": 2048000,
      "rowLimit": 10000
     },
     "inputWidgets": {},
     "nuid": "003cb7d3-6fe4-4a25-af9f-3787ac53dfd9",
     "showTitle": false,
     "title": ""
    }
   },
   "outputs": [],
   "source": [
    "player_schema = StructType([\n",
    "    StructField(\"player_sk\", IntegerType(), True),\n",
    "    StructField(\"player_id\", IntegerType(), True),\n",
    "    StructField(\"player_name\", StringType(), True),\n",
    "    StructField(\"dob\", DateType(), True),\n",
    "    StructField(\"batting_hand\", StringType(), True),\n",
    "    StructField(\"bowling_skill\", StringType(), True),\n",
    "    StructField(\"country_name\", StringType(), True)\n",
    "])\n",
    "\n",
    "player_df = spark.read.schema(player_schema).format(\"csv\").option(\"header\",\"true\").load(\"s3://ipl-data-analysis-project/Player.csv\")\n"
   ]
  },
  {
   "cell_type": "code",
   "execution_count": 0,
   "metadata": {
    "application/vnd.databricks.v1+cell": {
     "cellMetadata": {
      "byteLimit": 2048000,
      "rowLimit": 10000
     },
     "inputWidgets": {},
     "nuid": "a1756b85-d6fa-4720-85cd-8250f10b079b",
     "showTitle": false,
     "title": ""
    }
   },
   "outputs": [],
   "source": [
    "player_match_schema = StructType([\n",
    "    StructField(\"player_match_sk\", IntegerType(), True),\n",
    "    StructField(\"playermatch_key\", DecimalType(), True),\n",
    "    StructField(\"match_id\", IntegerType(), True),\n",
    "    StructField(\"player_id\", IntegerType(), True),\n",
    "    StructField(\"player_name\", StringType(), True),\n",
    "    StructField(\"dob\", DateType(), True),\n",
    "    StructField(\"batting_hand\", StringType(), True),\n",
    "    StructField(\"bowling_skill\", StringType(), True),\n",
    "    StructField(\"country_name\", StringType(), True),\n",
    "    StructField(\"role_desc\", StringType(), True),\n",
    "    StructField(\"player_team\", StringType(), True),\n",
    "    StructField(\"opposit_team\", StringType(), True),\n",
    "    StructField(\"season_year\", IntegerType(), True),\n",
    "    StructField(\"is_manofthematch\", BooleanType(), True),\n",
    "    StructField(\"age_as_on_match\", IntegerType(), True),\n",
    "    StructField(\"isplayers_team_won\", BooleanType(), True),\n",
    "    StructField(\"batting_status\", StringType(), True),\n",
    "    StructField(\"bowling_status\", StringType(), True),\n",
    "    StructField(\"player_captain\", StringType(), True),\n",
    "    StructField(\"opposit_captain\", StringType(), True),\n",
    "    StructField(\"player_keeper\", StringType(), True),\n",
    "    StructField(\"opposit_keeper\", StringType(), True)\n",
    "])\n",
    "\n",
    "player_match_df = spark.read.schema(player_match_schema).format(\"csv\").option(\"header\",\"true\").load(\"s3://ipl-data-analysis-project/Player_match.csv\")\n"
   ]
  },
  {
   "cell_type": "code",
   "execution_count": 0,
   "metadata": {
    "application/vnd.databricks.v1+cell": {
     "cellMetadata": {
      "byteLimit": 2048000,
      "rowLimit": 10000
     },
     "inputWidgets": {},
     "nuid": "f90fd749-b1d0-4902-b52e-37027521099f",
     "showTitle": false,
     "title": ""
    }
   },
   "outputs": [],
   "source": [
    "team_schema = StructType([\n",
    "    StructField(\"team_sk\", IntegerType(), True),\n",
    "    StructField(\"team_id\", IntegerType(), True),\n",
    "    StructField(\"team_name\", StringType(), True)\n",
    "])\n",
    "\n",
    "team_df = spark.read.schema(team_schema).format(\"csv\").option(\"header\",\"true\").load(\"s3://ipl-data-analysis-project/Team.csv\")\n",
    "\n"
   ]
  },
  {
   "cell_type": "code",
   "execution_count": 0,
   "metadata": {
    "application/vnd.databricks.v1+cell": {
     "cellMetadata": {
      "byteLimit": 2048000,
      "rowLimit": 10000
     },
     "inputWidgets": {},
     "nuid": "b71697bc-8628-4a21-8b0b-efe81789cf80",
     "showTitle": false,
     "title": ""
    }
   },
   "outputs": [],
   "source": [
    "# Aggregating the total and average of match score in each match and inning >>\\\n",
    "    \n",
    "total_and_avg_runs= ball_by_ball_df.groupBy(\"match_id\",\"innings_no\").agg(\n",
    "    sum(\"runs_scored\").alias(\"total_runs\"),\n",
    "    avg(\"runs_scored\").alias(\"average_runs\")\n",
    "    )"
   ]
  },
  {
   "cell_type": "code",
   "execution_count": 0,
   "metadata": {
    "application/vnd.databricks.v1+cell": {
     "cellMetadata": {
      "byteLimit": 2048000,
      "rowLimit": 10000
     },
     "inputWidgets": {},
     "nuid": "093c3087-829f-4cfd-95e3-7d425aaec937",
     "showTitle": false,
     "title": ""
    }
   },
   "outputs": [],
   "source": [
    "#window function: Calculate running total of runs in each match for each over\n",
    "\n",
    "windowSpec = Window.partitionBy(\"match_id\",\"innings_no\").orderBy(\"over_id\")\n",
    "\n",
    "ball_by_ball_df = ball_by_ball_df.withColumn(\n",
    "    \"running_total_runs\",\n",
    "    sum(\"runs_scored\").over(windowSpec)\n",
    ")"
   ]
  },
  {
   "cell_type": "code",
   "execution_count": 0,
   "metadata": {
    "application/vnd.databricks.v1+cell": {
     "cellMetadata": {
      "byteLimit": 2048000,
      "rowLimit": 10000
     },
     "inputWidgets": {},
     "nuid": "eed7dc14-7ae8-4585-b8a6-697108df5c0c",
     "showTitle": false,
     "title": ""
    }
   },
   "outputs": [
    {
     "output_type": "stream",
     "name": "stdout",
     "output_type": "stream",
     "text": [
      "+--------+-------+-------+-------+---+\n|match_id|over_id|ball_id|run_out|lbw|\n+--------+-------+-------+-------+---+\n+--------+-------+-------+-------+---+\n\n"
     ]
    }
   ],
   "source": [
    "# Conditional Column: Flag for high impact balls (either a wicket or more than 6 runs including extras)\n",
    "ball_by_ball_df = ball_by_ball_df.withColumn(\n",
    "    \"high_impact\",\n",
    "    when((col(\"runs_scored\") + col(\"extra_runs\") >= 6) | (col(\"runs_scored\") >= 4)| (col(\"bowler_wicket\") == True), True).otherwise(False)\n",
    ")\n",
    "\n",
    "     \n",
    "#ball_by_ball_df.select(col(\"high_impact\")).filter(col(\"high_impact\")== True).show(5)        \n",
    "\n",
    "new=ball_by_ball_df.filter(col(\"high_impact\")== True).select(ball_by_ball_df.match_id,ball_by_ball_df.over_id,ball_by_ball_df.ball_id,ball_by_ball_df.run_out,col(\"lbw\"))\n",
    "new_d=new.where(new.lbw.isNotNull())\n",
    "new_d.show()"
   ]
  },
  {
   "cell_type": "code",
   "execution_count": 0,
   "metadata": {
    "application/vnd.databricks.v1+cell": {
     "cellMetadata": {
      "byteLimit": 2048000,
      "rowLimit": 10000
     },
     "inputWidgets": {},
     "nuid": "b3aaaf78-3e0e-4787-92d6-6d4eccb0c278",
     "showTitle": false,
     "title": ""
    }
   },
   "outputs": [
    {
     "output_type": "stream",
     "name": "stdout",
     "output_type": "stream",
     "text": [
      "+--------+--------+--------------------+--------------------+----------+-----------+--------------------+----------+------------+--------------------+--------------------+---------+--------+------------+-----------+----------+----------+----+-----+----+-------------------+-----------------+\n|match_sk|match_id|               team1|               team2|match_date|season_year|          venue_name| city_name|country_name|         toss_winner|        match_winner|toss_name|win_type|outcome_type|  manofmach|win_margin|country_id|year|month| day|win_margin_category|toss_match_winner|\n+--------+--------+--------------------+--------------------+----------+-----------+--------------------+----------+------------+--------------------+--------------------+---------+--------+------------+-----------+----------+----------+----+-----+----+-------------------+-----------------+\n|       0|  335987|Royal Challengers...|Kolkata Knight Ri...|      null|       2008|M Chinnaswamy Sta...| Bangalore|       India|Royal Challengers...|Kolkata Knight Ri...|    field|    runs|      Result|BB McCullum|       140|         1|null| null|null|               High|               No|\n|       1|  335988|     Kings XI Punjab| Chennai Super Kings|      null|       2008|Punjab Cricket As...|Chandigarh|       India| Chennai Super Kings| Chennai Super Kings|      bat|    runs|      Result| MEK Hussey|        33|         1|null| null|null|                Low|              Yes|\n+--------+--------+--------------------+--------------------+----------+-----------+--------------------+----------+------------+--------------------+--------------------+---------+--------+------------+-----------+----------+----------+----+-----+----+-------------------+-----------------+\nonly showing top 2 rows\n\n"
     ]
    }
   ],
   "source": [
    " \n",
    "from pyspark.sql.functions import year, month, dayofmonth, when\n",
    "\n",
    "# Extracting year, month, and day from the match date for more detailed time-based analysis\n",
    "match_df = match_df.withColumn(\"year\", year(\"match_date\"))\n",
    "match_df = match_df.withColumn(\"month\", month(\"match_date\"))\n",
    "match_df = match_df.withColumn(\"day\", dayofmonth(\"match_date\"))\n",
    "\n",
    "# High margin win: categorizing win margins into 'high', 'medium', and 'low'\n",
    "match_df = match_df.withColumn(\n",
    "    \"win_margin_category\",\n",
    "    when(col(\"win_margin\") >= 100, \"High\")\n",
    "    .when((col(\"win_margin\") >= 50) & (col(\"win_margin\") < 100), \"Medium\")\n",
    "    .otherwise(\"Low\")\n",
    ")\n",
    "\n",
    "# Analyze the impact of the toss: who wins the toss and the match\n",
    "match_df = match_df.withColumn(\n",
    "    \"toss_match_winner\",\n",
    "    when(col(\"toss_winner\") == col(\"match_winner\"), \"Yes\").otherwise(\"No\")\n",
    ")\n",
    "\n",
    "# Show the enhanced match DataFrame\n",
    "match_df.show(2)\n"
   ]
  },
  {
   "cell_type": "code",
   "execution_count": 0,
   "metadata": {
    "application/vnd.databricks.v1+cell": {
     "cellMetadata": {
      "byteLimit": 2048000,
      "rowLimit": 10000
     },
     "inputWidgets": {},
     "nuid": "a31dfd4d-bb6d-449a-a2f0-cccfc0f66f9b",
     "showTitle": false,
     "title": ""
    }
   },
   "outputs": [
    {
     "output_type": "stream",
     "name": "stdout",
     "output_type": "stream",
     "text": [
      "+---------+---------+-----------+----+--------------+----------------+------------+-------------+\n|player_sk|player_id|player_name| dob|  batting_hand|   bowling_skill|country_name|batting_style|\n+---------+---------+-----------+----+--------------+----------------+------------+-------------+\n|        0|        1| sc ganguly|null| Left-hand bat|Right-arm medium|       India| Right-Handed|\n|        1|        2|bb mccullum|null|Right-hand bat|Right-arm medium| New Zealand| Right-Handed|\n+---------+---------+-----------+----+--------------+----------------+------------+-------------+\nonly showing top 2 rows\n\n"
     ]
    }
   ],
   "source": [
    "\n",
    "from pyspark.sql.functions import lower, regexp_replace\n",
    "\n",
    "# Normalize and clean player names\n",
    "player_df = player_df.withColumn(\"player_name\", lower(regexp_replace(\"player_name\", \"[^a-zA-Z0-9 ]\", \"\")))\n",
    "\n",
    "# Handle missing values in 'batting_hand' and 'bowling_skill' with a default 'unknown'\n",
    "player_df = player_df.na.fill({\"batting_hand\": \"unknown\", \"bowling_skill\": \"unknown\"})\n",
    "\n",
    "# Categorizing players based on batting hand\n",
    "player_df = player_df.withColumn(\n",
    "    \"batting_style\",\n",
    "    when(col(\"batting_hand\").contains(\"left\"), \"Left-Handed\").otherwise(\"Right-Handed\")\n",
    ")\n",
    "\n",
    "# Show the modified player DataFrame\n",
    "player_df.show(2)"
   ]
  },
  {
   "cell_type": "code",
   "execution_count": 0,
   "metadata": {
    "application/vnd.databricks.v1+cell": {
     "cellMetadata": {
      "byteLimit": 2048000,
      "rowLimit": 10000
     },
     "inputWidgets": {},
     "nuid": "a7051653-e846-4875-9bfe-eb566ca5786c",
     "showTitle": false,
     "title": ""
    }
   },
   "outputs": [
    {
     "output_type": "stream",
     "name": "stdout",
     "output_type": "stream",
     "text": [
      "+---------------+---------------+--------+---------+---------------+----+--------------+--------------------+------------+---------+--------------------+--------------------+-----------+----------------+---------------+------------------+--------------+--------------+--------------+---------------+-------------+--------------+--------------+-----------------+\n|player_match_sk|playermatch_key|match_id|player_id|    player_name| dob|  batting_hand|       bowling_skill|country_name|role_desc|         player_team|        opposit_team|season_year|is_manofthematch|age_as_on_match|isplayers_team_won|batting_status|bowling_status|player_captain|opposit_captain|player_keeper|opposit_keeper|veteran_status|years_since_debut|\n+---------------+---------------+--------+---------+---------------+----+--------------+--------------------+------------+---------+--------------------+--------------------+-----------+----------------+---------------+------------------+--------------+--------------+--------------+---------------+-------------+--------------+--------------+-----------------+\n|             -1|             -1|      -1|       -1|            N/A|null|          null|                null|        null|     null|                null|                null|       null|            null|           null|              null|          null|          null|          null|           null|         null|          null|   Non-Veteran|             null|\n|          12694|           null|  335987|        6|       R Dravid|null|Right-hand bat|  Right-arm offbreak|       India|  Captain|Royal Challengers...|Kolkata Knight Ri...|       2008|            null|             35|              null|          null|          null|      R Dravid|     SC Ganguly|   MV Boucher|       WP Saha|       Veteran|               16|\n|          12695|           null|  335987|        7|       W Jaffer|null|Right-hand bat|  Right-arm offbreak|       India|   Player|Royal Challengers...|Kolkata Knight Ri...|       2008|            null|             30|              null|          null|          null|      R Dravid|     SC Ganguly|   MV Boucher|       WP Saha|   Non-Veteran|               16|\n|          12696|           null|  335987|        8|        V Kohli|null|Right-hand bat|    Right-arm medium|       India|   Player|Royal Challengers...|Kolkata Knight Ri...|       2008|            null|             20|              null|          null|          null|      R Dravid|     SC Ganguly|   MV Boucher|       WP Saha|   Non-Veteran|               16|\n|          12697|           null|  335987|        9|      JH Kallis|null|Right-hand bat|Right-arm fast-me...|South Africa|   Player|Royal Challengers...|Kolkata Knight Ri...|       2008|            null|             33|              null|          null|          null|      R Dravid|     SC Ganguly|   MV Boucher|       WP Saha|   Non-Veteran|               16|\n|          12698|           null|  335987|       10|       CL White|null|Right-hand bat|     Legbreak googly|   Australia|   Player|Royal Challengers...|Kolkata Knight Ri...|       2008|            null|             25|              null|          null|          null|      R Dravid|     SC Ganguly|   MV Boucher|       WP Saha|   Non-Veteran|               16|\n|          12699|           null|  335987|       11|     MV Boucher|null|Right-hand bat|    Right-arm medium|South Africa|   Keeper|Royal Challengers...|Kolkata Knight Ri...|       2008|            null|             32|              null|          null|          null|      R Dravid|     SC Ganguly|   MV Boucher|       WP Saha|   Non-Veteran|               16|\n|          12700|           null|  335987|       12|        B Akhil|null|Right-hand bat|Right-arm medium-...|       India|   Player|Royal Challengers...|Kolkata Knight Ri...|       2008|            null|             31|              null|          null|          null|      R Dravid|     SC Ganguly|   MV Boucher|       WP Saha|   Non-Veteran|               16|\n|          12701|           null|  335987|       13|      AA Noffke|null|Right-hand bat|Right-arm fast-me...|   Australia|   Player|Royal Challengers...|Kolkata Knight Ri...|       2008|            null|             31|              null|          null|          null|      R Dravid|     SC Ganguly|   MV Boucher|       WP Saha|   Non-Veteran|               16|\n|          12702|           null|  335987|       14|        P Kumar|null|Right-hand bat|    Right-arm medium|       India|   Player|Royal Challengers...|Kolkata Knight Ri...|       2008|            null|             22|              null|          null|          null|      R Dravid|     SC Ganguly|   MV Boucher|       WP Saha|   Non-Veteran|               16|\n|          12703|           null|  335987|       15|         Z Khan|null|Right-hand bat|Left-arm fast-medium|       India|   Player|Royal Challengers...|Kolkata Knight Ri...|       2008|            null|             30|              null|          null|          null|      R Dravid|     SC Ganguly|   MV Boucher|       WP Saha|   Non-Veteran|               16|\n|          12704|           null|  335987|       16|       SB Joshi|null| Left-hand bat|Slow left-arm ort...|       India|   Player|Royal Challengers...|Kolkata Knight Ri...|       2008|            null|             38|              null|          null|          null|      R Dravid|     SC Ganguly|   MV Boucher|       WP Saha|       Veteran|               16|\n|          12705|           null|  335987|        1|     SC Ganguly|null| Left-hand bat|    Right-arm medium|       India|  Captain|Kolkata Knight Ri...|Royal Challengers...|       2008|            null|             36|              null|          null|          null|    SC Ganguly|       R Dravid|      WP Saha|    MV Boucher|       Veteran|               16|\n|          12706|           null|  335987|        2|    BB McCullum|null|Right-hand bat|    Right-arm medium| New Zealand|   Player|Kolkata Knight Ri...|Royal Challengers...|       2008|            null|             27|              null|          null|          null|    SC Ganguly|       R Dravid|      WP Saha|    MV Boucher|   Non-Veteran|               16|\n|          12707|           null|  335987|        3|     RT Ponting|null|Right-hand bat|    Right-arm medium|   Australia|   Player|Kolkata Knight Ri...|Royal Challengers...|       2008|            null|             34|              null|          null|          null|    SC Ganguly|       R Dravid|      WP Saha|    MV Boucher|   Non-Veteran|               16|\n|          12708|           null|  335987|        4|      DJ Hussey|null|Right-hand bat|  Right-arm offbreak|   Australia|   Player|Kolkata Knight Ri...|Royal Challengers...|       2008|            null|             31|              null|          null|          null|    SC Ganguly|       R Dravid|      WP Saha|    MV Boucher|   Non-Veteran|               16|\n|          12709|           null|  335987|        5|Mohammad Hafeez|null|Right-hand bat|  Right-arm offbreak|    Pakistan|   Player|Kolkata Knight Ri...|Royal Challengers...|       2008|            null|             28|              null|          null|          null|    SC Ganguly|       R Dravid|      WP Saha|    MV Boucher|   Non-Veteran|               16|\n|          12710|           null|  335987|       62|        WP Saha|null|Right-hand bat|                 N/A|       India|   Keeper|Kolkata Knight Ri...|Royal Challengers...|       2008|            null|             24|              null|          null|          null|    SC Ganguly|       R Dravid|      WP Saha|    MV Boucher|   Non-Veteran|               16|\n|          12711|           null|  335987|       63|      LR Shukla|null|Right-hand bat|    Right-arm medium|       India|   Player|Kolkata Knight Ri...|Royal Challengers...|       2008|            null|             27|              null|          null|          null|    SC Ganguly|       R Dravid|      WP Saha|    MV Boucher|   Non-Veteran|               16|\n|          12712|           null|  335987|       82|     AB Agarkar|null|Right-hand bat|      Right-arm fast|       India|   Player|Kolkata Knight Ri...|Royal Challengers...|       2008|            null|             31|              null|          null|          null|    SC Ganguly|       R Dravid|      WP Saha|    MV Boucher|   Non-Veteran|               16|\n+---------------+---------------+--------+---------+---------------+----+--------------+--------------------+------------+---------+--------------------+--------------------+-----------+----------------+---------------+------------------+--------------+--------------+--------------+---------------+-------------+--------------+--------------+-----------------+\nonly showing top 20 rows\n\n"
     ]
    }
   ],
   "source": [
    "\n",
    "from pyspark.sql.functions import col, when, current_date, expr\n",
    "\n",
    "# Add a 'veteran_status' column based on player age\n",
    "player_match_df = player_match_df.withColumn(\n",
    "    \"veteran_status\",\n",
    "    when(col(\"age_as_on_match\") >= 35, \"Veteran\").otherwise(\"Non-Veteran\")\n",
    ")\n",
    "\n",
    "# Dynamic column to calculate years since debut\n",
    "player_match_df = player_match_df.withColumn(\n",
    "    \"years_since_debut\",\n",
    "    (year(current_date()) - col(\"season_year\"))\n",
    ")\n",
    "\n",
    "# Show the enriched DataFrame\n",
    "player_match_df.show()"
   ]
  },
  {
   "cell_type": "code",
   "execution_count": 0,
   "metadata": {
    "application/vnd.databricks.v1+cell": {
     "cellMetadata": {
      "byteLimit": 2048000,
      "rowLimit": 10000
     },
     "inputWidgets": {},
     "nuid": "adbb759c-cd5b-4a62-90d1-6d1e48cc2f05",
     "showTitle": false,
     "title": ""
    }
   },
   "outputs": [],
   "source": [
    "\n",
    "ball_by_ball_df.createOrReplaceTempView(\"ball_by_ball\")\n",
    "match_df.createOrReplaceTempView(\"match\")\n",
    "player_df.createOrReplaceTempView(\"player\")\n",
    "player_match_df.createOrReplaceTempView(\"player_match\")\n",
    "team_df.createOrReplaceTempView(\"team\")"
   ]
  },
  {
   "cell_type": "code",
   "execution_count": 0,
   "metadata": {
    "application/vnd.databricks.v1+cell": {
     "cellMetadata": {
      "byteLimit": 2048000,
      "rowLimit": 10000
     },
     "inputWidgets": {},
     "nuid": "d8043850-a907-4dab-ad6d-c2f256acd802",
     "showTitle": false,
     "title": ""
    }
   },
   "outputs": [
    {
     "output_type": "stream",
     "name": "stdout",
     "output_type": "stream",
     "text": [
      "+---------------+-----------+----------+\n|    player_name|season_year|total_runs|\n+---------------+-----------+----------+\n|       se marsh|       2008|       616|\n|      g gambhir|       2008|       534|\n|  st jayasuriya|       2008|       514|\n|      sr watson|       2008|       468|\n|       gc smith|       2008|       441|\n|   ac gilchrist|       2008|       436|\n|      yk pathan|       2008|       435|\n|       sk raina|       2008|       421|\n|       ms dhoni|       2008|       414|\n|       v sehwag|       2008|       406|\n|      rg sharma|       2008|       404|\n|       r dravid|       2008|       371|\n|     sc ganguly|       2008|       349|\n|       s dhawan|       2008|       340|\n|     rv uthappa|       2008|       320|\n|  kc sangakkara|       2008|       320|\n|      dj hussey|       2008|       319|\n|    sa asnodkar|       2008|       311|\n|       pa patel|       2008|       302|\n|   yuvraj singh|       2008|       299|\n|y venugopal rao|       2008|       288|\n|      ja morkel|       2008|       241|\n|     mv boucher|       2008|       225|\n|       jr hopes|       2008|       221|\n|       am nayar|       2008|       206|\n|      jh kallis|       2008|       199|\n|     sp fleming|       2008|       196|\n|    salman butt|       2008|       193|\n|    s badrinath|       2008|       192|\n|      ml hayden|       2008|       189|\n+---------------+-----------+----------+\nonly showing top 30 rows\n\n"
     ]
    }
   ],
   "source": [
    "top_scoring_batsmen_per_season = spark.sql(\"\"\"\n",
    "SELECT \n",
    "p.player_name,\n",
    "m.season_year,\n",
    "SUM(b.runs_scored) AS total_runs \n",
    "FROM ball_by_ball b\n",
    "JOIN match m ON b.match_id = m.match_id   \n",
    "JOIN player_match pm ON m.match_id = pm.match_id AND b.striker = pm.player_id     \n",
    "JOIN player p ON p.player_id = pm.player_id\n",
    "GROUP BY p.player_name, m.season_year\n",
    "ORDER BY m.season_year, total_runs DESC\n",
    "\"\"\")\n",
    "\n",
    "#top scoring batsman per season\n",
    "top_scoring_batsmen_per_season.show(30)"
   ]
  },
  {
   "cell_type": "code",
   "execution_count": 0,
   "metadata": {
    "application/vnd.databricks.v1+cell": {
     "cellMetadata": {
      "byteLimit": 2048000,
      "rowLimit": 10000
     },
     "inputWidgets": {},
     "nuid": "52dc3983-a8fb-4901-8647-70d18f9b51bc",
     "showTitle": false,
     "title": ""
    }
   },
   "outputs": [
    {
     "output_type": "stream",
     "name": "stdout",
     "output_type": "stream",
     "text": [
      "+---------------+-----------+----------+\n|    player_name|season_year|total_runs|\n+---------------+-----------+----------+\n|       se marsh|       2008|       616|\n|      g gambhir|       2008|       534|\n|  st jayasuriya|       2008|       514|\n|      sr watson|       2008|       468|\n|       gc smith|       2008|       441|\n|   ac gilchrist|       2008|       436|\n|      yk pathan|       2008|       435|\n|       sk raina|       2008|       421|\n|       ms dhoni|       2008|       414|\n|       v sehwag|       2008|       406|\n|      rg sharma|       2008|       404|\n|       r dravid|       2008|       371|\n|     sc ganguly|       2008|       349|\n|       s dhawan|       2008|       340|\n|     rv uthappa|       2008|       320|\n|  kc sangakkara|       2008|       320|\n|      dj hussey|       2008|       319|\n|    sa asnodkar|       2008|       311|\n|       pa patel|       2008|       302|\n|   yuvraj singh|       2008|       299|\n|y venugopal rao|       2008|       288|\n|      ja morkel|       2008|       241|\n|     mv boucher|       2008|       225|\n|       jr hopes|       2008|       221|\n|       am nayar|       2008|       206|\n|      jh kallis|       2008|       199|\n|     sp fleming|       2008|       196|\n|    salman butt|       2008|       193|\n|    s badrinath|       2008|       192|\n|      ml hayden|       2008|       189|\n+---------------+-----------+----------+\nonly showing top 30 rows\n\n"
     ]
    }
   ],
   "source": [
    "top_scoring_batsmen_per_season.show(30)"
   ]
  },
  {
   "cell_type": "code",
   "execution_count": 0,
   "metadata": {
    "application/vnd.databricks.v1+cell": {
     "cellMetadata": {
      "byteLimit": 2048000,
      "rowLimit": 10000
     },
     "inputWidgets": {},
     "nuid": "19d88741-d1c0-4a96-8ee7-0e8a6566be22",
     "showTitle": false,
     "title": ""
    }
   },
   "outputs": [
    {
     "output_type": "stream",
     "name": "stdout",
     "output_type": "stream",
     "text": [
      "+---------------+-------------------+-------------+\n|    player_name|  avg_runs_per_ball|total_wickets|\n+---------------+-------------------+-------------+\n|     sm harwood| 0.3157894736842105|            0|\n|        a zampa|0.42857142857142855|            0|\n|     ankit soni|                0.5|            0|\n|      gr napier|                0.5|            0|\n|       aj finch|                0.5|            0|\n|     avesh khan|                0.5|            0|\n|       nb singh|               0.56|            0|\n|     ag murtaza| 0.6455696202531646|            0|\n|     fh edwards| 0.6585365853658537|            0|\n|      sb bangar| 0.6666666666666666|            0|\n|     d du preez| 0.6666666666666666|            0|\n|        s gopal| 0.6666666666666666|            0|\n|   kp pietersen|                0.7|            0|\n|  la carseldine| 0.7142857142857143|            0|\n|      ss mundhe| 0.7142857142857143|            0|\n|       a kumble| 0.7614678899082569|            0|\n|       umar gul| 0.7619047619047619|            0|\n|j syed mohammad| 0.7777777777777778|            0|\n|c de grandhomme| 0.7857142857142857|            0|\n|smsm senanayake| 0.8294573643410853|            0|\n+---------------+-------------------+-------------+\nonly showing top 20 rows\n\n"
     ]
    }
   ],
   "source": [
    "economical_bowlers_powerplay = spark.sql(\"\"\"\n",
    "SELECT \n",
    "p.player_name, \n",
    "AVG(b.runs_scored) AS avg_runs_per_ball, \n",
    "COUNT(b.bowler_wicket) AS total_wickets\n",
    "FROM ball_by_ball b\n",
    "JOIN player_match pm ON b.match_id = pm.match_id AND b.bowler = pm.player_id\n",
    "JOIN player p ON pm.player_id = p.player_id\n",
    "WHERE b.over_id <= 6\n",
    "GROUP BY p.player_name\n",
    "HAVING COUNT(*) >= 1\n",
    "ORDER BY avg_runs_per_ball, total_wickets DESC\n",
    "\"\"\")\n",
    "economical_bowlers_powerplay.show()\n"
   ]
  },
  {
   "cell_type": "code",
   "execution_count": 0,
   "metadata": {
    "application/vnd.databricks.v1+cell": {
     "cellMetadata": {
      "byteLimit": 2048000,
      "rowLimit": 10000
     },
     "inputWidgets": {},
     "nuid": "65d134ee-5a56-4436-80e6-df690ed39e98",
     "showTitle": false,
     "title": ""
    }
   },
   "outputs": [
    {
     "output_type": "stream",
     "name": "stdout",
     "output_type": "stream",
     "text": [
      "+--------+--------------------+---------+--------------------+-------------+\n|match_id|         toss_winner|toss_name|        match_winner|match_outcome|\n+--------+--------------------+---------+--------------------+-------------+\n|  335987|Royal Challengers...|    field|Kolkata Knight Ri...|         Lost|\n|  335988| Chennai Super Kings|      bat| Chennai Super Kings|          Won|\n|  335989|    Rajasthan Royals|      bat|    Delhi Daredevils|         Lost|\n|  335990|      Mumbai Indians|      bat|Royal Challengers...|         Lost|\n|  335991|     Deccan Chargers|      bat|Kolkata Knight Ri...|         Lost|\n|  335992|     Kings XI Punjab|      bat|    Rajasthan Royals|         Lost|\n|  335993|     Deccan Chargers|      bat|    Delhi Daredevils|         Lost|\n|  335994|      Mumbai Indians|    field| Chennai Super Kings|         Lost|\n|  335995|    Rajasthan Royals|    field|    Rajasthan Royals|          Won|\n|  335996|      Mumbai Indians|    field|     Kings XI Punjab|         Lost|\n|  335997|    Rajasthan Royals|    field|    Rajasthan Royals|          Won|\n|  335998|Kolkata Knight Ri...|      bat| Chennai Super Kings|         Lost|\n|  335999|     Deccan Chargers|    field|     Deccan Chargers|          Won|\n|  336000|    Delhi Daredevils|      bat|     Kings XI Punjab|         Lost|\n|  336001| Chennai Super Kings|      bat| Chennai Super Kings|          Won|\n|  336002|Kolkata Knight Ri...|      bat|      Mumbai Indians|         Lost|\n|  336003|Royal Challengers...|    field|    Delhi Daredevils|         Lost|\n|  336004|     Kings XI Punjab|    field|     Kings XI Punjab|          Won|\n|  336005|    Rajasthan Royals|      bat|    Rajasthan Royals|          Won|\n|  336006| Chennai Super Kings|      bat|    Delhi Daredevils|         Lost|\n+--------+--------------------+---------+--------------------+-------------+\nonly showing top 20 rows\n\n"
     ]
    }
   ],
   "source": [
    "\n",
    "toss_impact_individual_matches = spark.sql(\"\"\"\n",
    "SELECT m.match_id, m.toss_winner, m.toss_name, m.match_winner,\n",
    "       CASE WHEN m.toss_winner = m.match_winner THEN 'Won' ELSE 'Lost' END AS match_outcome\n",
    "FROM match m\n",
    "WHERE m.toss_name IS NOT NULL\n",
    "ORDER BY m.match_id\n",
    "\"\"\")\n",
    "toss_impact_individual_matches.show()"
   ]
  },
  {
   "cell_type": "code",
   "execution_count": 0,
   "metadata": {
    "application/vnd.databricks.v1+cell": {
     "cellMetadata": {
      "byteLimit": 2048000,
      "rowLimit": 10000
     },
     "inputWidgets": {},
     "nuid": "3c29a5bd-3039-4cd1-873c-447e9079ea1b",
     "showTitle": false,
     "title": ""
    }
   },
   "outputs": [
    {
     "output_type": "stream",
     "name": "stdout",
     "output_type": "stream",
     "text": [
      "+---------------+-------------------+--------------+\n|    player_name|   avg_runs_in_wins|innings_played|\n+---------------+-------------------+--------------+\n|smsm senanayake|                0.0|             1|\n|     kp appanna|                0.0|             1|\n|      jj bumrah|                0.0|             3|\n|       i sharma|                0.0|             1|\n|       ts mills|                0.0|             3|\n|        a nehra|                0.0|             2|\n|       j theron|                0.0|             2|\n|       vr aaron|                0.0|             5|\n|      sn thakur|                0.0|             2|\n|  anirudh singh|                0.0|             1|\n|     t thushara|                0.2|             5|\n|      sa abbott|               0.25|             4|\n|  yashpal singh|                0.3|            20|\n|    s sreesanth| 0.3333333333333333|             3|\n|    kc cariappa| 0.3333333333333333|             3|\n|     jd unadkat|                0.4|             5|\n|     sm harwood|0.42857142857142855|             7|\n|        jm kemp| 0.4444444444444444|             9|\n|     m de lange|                0.5|             2|\n| nm coulternile|                0.5|             4|\n+---------------+-------------------+--------------+\nonly showing top 20 rows\n\n"
     ]
    }
   ],
   "source": [
    "\n",
    "average_runs_in_wins = spark.sql(\"\"\"\n",
    "SELECT p.player_name, AVG(b.runs_scored) AS avg_runs_in_wins, COUNT(*) AS innings_played\n",
    "FROM ball_by_ball b\n",
    "JOIN player_match pm ON b.match_id = pm.match_id AND b.striker = pm.player_id\n",
    "JOIN player p ON pm.player_id = p.player_id\n",
    "JOIN match m ON pm.match_id = m.match_id\n",
    "WHERE m.match_winner = pm.player_team\n",
    "GROUP BY p.player_name\n",
    "ORDER BY avg_runs_in_wins ASC\n",
    "\"\"\")\n",
    "average_runs_in_wins.show()\n"
   ]
  },
  {
   "cell_type": "code",
   "execution_count": 0,
   "metadata": {
    "application/vnd.databricks.v1+cell": {
     "cellMetadata": {
      "byteLimit": 2048000,
      "rowLimit": 10000
     },
     "inputWidgets": {},
     "nuid": "dc9618c1-d983-403b-9bdf-4c84236ae3cd",
     "showTitle": false,
     "title": ""
    }
   },
   "outputs": [
    {
     "output_type": "display_data",
     "data": {
      "image/png": "[encoded data removed]"
     },
     "metadata": {
      "application/vnd.databricks.v1+output": {
       "addedWidgets": {},
       "arguments": {},
       "data": "data:image/png;base64,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\n",
       "datasetInfos": [],
       "metadata": {},
       "removedWidgets": [],
       "type": "image"
      }
     },
     "output_type": "display_data"
    }
   ],
   "source": [
    "import matplotlib.pyplot as plt\n",
    "\n",
    "economical_bowlers_pd = economical_bowlers_powerplay.toPandas()\n",
    "\n",
    "# Visualizing using Matplotlib\n",
    "plt.figure(figsize=(12, 8))\n",
    "# Limiting to top 10 for clarity in the plot\n",
    "top_economical_bowlers = economical_bowlers_pd.nsmallest(10, 'avg_runs_per_ball')\n",
    "plt.bar(top_economical_bowlers['player_name'], top_economical_bowlers['avg_runs_per_ball'], color='skyblue')\n",
    "plt.xlabel('Bowler Name')\n",
    "plt.ylabel('Average Runs per Ball')\n",
    "plt.title('Most Economical Bowlers in Powerplay Overs (Top 10)')\n",
    "plt.xticks(rotation=45)\n",
    "plt.tight_layout()\n",
    "plt.show()\n",
    "\n",
    "     "
   ]
  }
 ],
 "metadata": {
  "application/vnd.databricks.v1+notebook": {
   "dashboards": [],
   "environmentMetadata": null,
   "language": "python",
   "notebookMetadata": {
    "pythonIndentUnit": 4
   },
   "notebookName": "ipl-data-analysis",
   "widgets": {}
  }
 },
 "nbformat": 4,
 "nbformat_minor": 0
}
