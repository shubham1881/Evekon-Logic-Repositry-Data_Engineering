{
 "cells": [
  {
   "cell_type": "code",
   "execution_count": 0,
   "metadata": {
    "application/vnd.databricks.v1+cell": {
     "cellMetadata": {
      "byteLimit": 2048000,
      "rowLimit": 10000
     },
     "inputWidgets": {},
     "nuid": "bf21675c-3271-48c9-a306-b2ca38ff1638",
     "showTitle": false,
     "title": ""
    }
   },
   "outputs": [],
   "source": [
    "from pyspark.sql import SparkSession\n",
    "from pyspark.sql.types import StructField,StructType,IntegerType,StringType,BooleanType,DateType,DecimalType\n",
    "from pyspark.sql.functions import col,when,sum,avg,row_number\n",
    "from pyspark.sql.window import Window\n",
    "\n",
    "#creating spark session manually\n",
    "spark=SparkSession.builder.appName(\"Ipl Data Analysis\").getOrCreate()"
   ]
  },
  {
   "cell_type": "code",
   "execution_count": 0,
   "metadata": {
    "application/vnd.databricks.v1+cell": {
     "cellMetadata": {
      "byteLimit": 2048000,
      "rowLimit": 10000
     },
     "inputWidgets": {},
     "nuid": "9095d6a9-da76-4c0e-abfd-30f235554012",
     "showTitle": false,
     "title": ""
    }
   },
   "outputs": [],
   "source": [
    "ball_by_ball_schema = StructType([\n",
    "    StructField(\"match_id\", IntegerType(), True),\n",
    "    StructField(\"over_id\", IntegerType(), True),\n",
    "    StructField(\"ball_id\", IntegerType(), True),\n",
    "    StructField(\"innings_no\", IntegerType(), True),\n",
    "    StructField(\"team_batting\", StringType(), True),\n",
    "    StructField(\"team_bowling\", StringType(), True),\n",
    "    StructField(\"striker_batting_position\", IntegerType(), True),\n",
    "    StructField(\"extra_type\", StringType(), True),\n",
    "    StructField(\"runs_scored\", IntegerType(), True),\n",
    "    StructField(\"extra_runs\", IntegerType(), True),\n",
    "    StructField(\"wides\", IntegerType(), True),\n",
    "    StructField(\"legbyes\", IntegerType(), True),\n",
    "    StructField(\"byes\", IntegerType(), True),\n",
    "    StructField(\"noballs\", IntegerType(), True),\n",
    "    StructField(\"penalty\", IntegerType(), True),\n",
    "    StructField(\"bowler_extras\", IntegerType(), True),\n",
    "    StructField(\"out_type\", StringType(), True),\n",
    "    StructField(\"caught\", BooleanType(), True),\n",
    "    StructField(\"bowled\", BooleanType(), True),\n",
    "    StructField(\"run_out\", BooleanType(), True),\n",
    "    StructField(\"lbw\", BooleanType(), True),\n",
    "    StructField(\"retired_hurt\", BooleanType(), True),\n",
    "    StructField(\"stumped\", BooleanType(), True),\n",
    "    StructField(\"caught_and_bowled\", BooleanType(), True),\n",
    "    StructField(\"hit_wicket\", BooleanType(), True),\n",
    "    StructField(\"obstructingfeild\", BooleanType(), True),\n",
    "    StructField(\"bowler_wicket\", BooleanType(), True),\n",
    "    StructField(\"match_date\", DateType(), True),\n",
    "    StructField(\"season\", IntegerType(), True),\n",
    "    StructField(\"striker\", IntegerType(), True),\n",
    "    StructField(\"non_striker\", IntegerType(), True),\n",
    "    StructField(\"bowler\", IntegerType(), True),\n",
    "    StructField(\"player_out\", IntegerType(), True),\n",
    "    StructField(\"fielders\", IntegerType(), True),\n",
    "    StructField(\"striker_match_sk\", IntegerType(), True),\n",
    "    StructField(\"strikersk\", IntegerType(), True),\n",
    "    StructField(\"nonstriker_match_sk\", IntegerType(), True),\n",
    "    StructField(\"nonstriker_sk\", IntegerType(), True),\n",
    "    StructField(\"fielder_match_sk\", IntegerType(), True),\n",
    "    StructField(\"fielder_sk\", IntegerType(), True),\n",
    "    StructField(\"bowler_match_sk\", IntegerType(), True),\n",
    "    StructField(\"bowler_sk\", IntegerType(), True),\n",
    "    StructField(\"playerout_match_sk\", IntegerType(), True),\n",
    "    StructField(\"battingteam_sk\", IntegerType(), True),\n",
    "    StructField(\"bowlingteam_sk\", IntegerType(), True),\n",
    "    StructField(\"keeper_catch\", BooleanType(), True),\n",
    "    StructField(\"player_out_sk\", IntegerType(), True),\n",
    "    StructField(\"matchdatesk\", DateType(), True)\n",
    "])\n",
    "     \n",
    "    "
   ]
  },
  {
   "cell_type": "code",
   "execution_count": 0,
   "metadata": {
    "application/vnd.databricks.v1+cell": {
     "cellMetadata": {
      "byteLimit": 2048000,
      "rowLimit": 10000
     },
     "inputWidgets": {},
     "nuid": "b328eaea-b2b3-48a9-aac9-389e20f6551f",
     "showTitle": false,
     "title": ""
    }
   },
   "outputs": [],
   "source": [
    "ball_by_ball_df=spark.read.schema(ball_by_ball_schema).format(\"csv\").option(\"header\",\"true\").load(\"s3://ipl-data-analysis-project/Ball_By_Ball.csv\") "
   ]
  },
  {
   "cell_type": "code",
   "execution_count": 0,
   "metadata": {
    "application/vnd.databricks.v1+cell": {
     "cellMetadata": {
      "byteLimit": 2048000,
      "rowLimit": 10000
     },
     "inputWidgets": {},
     "nuid": "d4e18c61-4c89-4192-8acf-4726d8493842",
     "showTitle": false,
     "title": ""
    }
   },
   "outputs": [
    {
     "output_type": "stream",
     "name": "stdout",
     "output_type": "stream",
     "text": [
      "+--------+-------+-------+----------+------------+------------+------------------------+----------+-----------+----------+-----+-------+----+-------+-------+-------------+--------------+------+------+-------+----+------------+-------+-----------------+----------+----------------+-------------+----------+------+-------+-----------+------+----------+--------+----------------+---------+-------------------+-------------+----------------+----------+---------------+---------+------------------+--------------+--------------+------------+-------------+-----------+\n|match_id|over_id|ball_id|innings_no|team_batting|team_bowling|striker_batting_position|extra_type|runs_scored|extra_runs|wides|legbyes|byes|noballs|penalty|bowler_extras|      out_type|caught|bowled|run_out| lbw|retired_hurt|stumped|caught_and_bowled|hit_wicket|obstructingfeild|bowler_wicket|match_date|season|striker|non_striker|bowler|player_out|fielders|striker_match_sk|strikersk|nonstriker_match_sk|nonstriker_sk|fielder_match_sk|fielder_sk|bowler_match_sk|bowler_sk|playerout_match_sk|battingteam_sk|bowlingteam_sk|keeper_catch|player_out_sk|matchdatesk|\n+--------+-------+-------+----------+------------+------------+------------------------+----------+-----------+----------+-----+-------+----+-------+-------+-------------+--------------+------+------+-------+----+------------+-------+-----------------+----------+----------------+-------------+----------+------+-------+-----------+------+----------+--------+----------------+---------+-------------------+-------------+----------------+----------+---------------+---------+------------------+--------------+--------------+------------+-------------+-----------+\n|  598028|     15|      6|         1|           5|           2|                       6| No Extras|          4|         0|    0|      0|   0|      0|      0|            0|Not Applicable|  null|  null|   null|null|        null|   null|             null|      null|            null|         null|      null|  2013|    277|        104|    83|      null|    null|           20336|      276|              20333|          103|              -1|        -1|          20343|       82|                -1|             4|             1|        null|            0|       null|\n|  598028|     14|      1|         1|           5|           2|                       5| No Extras|          1|         0|    0|      0|   0|      0|      0|            0|Not Applicable|  null|  null|   null|null|        null|   null|             null|      null|            null|         null|      null|  2013|    104|          6|   346|      null|    null|           20333|      103|              20328|            5|              -1|        -1|          20348|      345|                -1|             4|             1|        null|            0|       null|\n+--------+-------+-------+----------+------------+------------+------------------------+----------+-----------+----------+-----+-------+----+-------+-------+-------------+--------------+------+------+-------+----+------------+-------+-----------------+----------+----------------+-------------+----------+------+-------+-----------+------+----------+--------+----------------+---------+-------------------+-------------+----------------+----------+---------------+---------+------------------+--------------+--------------+------------+-------------+-----------+\nonly showing top 2 rows\n\n"
     ]
    }
   ],
   "source": [
    "ball_by_ball.show(2)"
   ]
  },
  {
   "cell_type": "code",
   "execution_count": 0,
   "metadata": {
    "application/vnd.databricks.v1+cell": {
     "cellMetadata": {
      "byteLimit": 2048000,
      "rowLimit": 10000
     },
     "inputWidgets": {},
     "nuid": "fa1eb159-eddb-4dd7-8416-b1894c6413b4",
     "showTitle": false,
     "title": ""
    }
   },
   "outputs": [],
   "source": [
    "match_schema = StructType([\n",
    "    StructField(\"match_sk\", IntegerType(), True),\n",
    "    StructField(\"match_id\", IntegerType(), True),\n",
    "    StructField(\"team1\", StringType(), True),\n",
    "    StructField(\"team2\", StringType(), True),\n",
    "    StructField(\"match_date\", DateType(), True),\n",
    "    StructField(\"season_year\", IntegerType(), True),\n",
    "    StructField(\"venue_name\", StringType(), True),\n",
    "    StructField(\"city_name\", StringType(), True),\n",
    "    StructField(\"country_name\", StringType(), True),\n",
    "    StructField(\"toss_winner\", StringType(), True),\n",
    "    StructField(\"match_winner\", StringType(), True),\n",
    "    StructField(\"toss_name\", StringType(), True),\n",
    "    StructField(\"win_type\", StringType(), True),\n",
    "    StructField(\"outcome_type\", StringType(), True),\n",
    "    StructField(\"manofmach\", StringType(), True),\n",
    "    StructField(\"win_margin\", IntegerType(), True),\n",
    "    StructField(\"country_id\", IntegerType(), True)\n",
    "])\n",
    "match_df = spark.read.schema(match_schema).format(\"csv\").option(\"header\",\"true\").load(\"s3://ipl-data-analysis-project/Match.csv\")\n"
   ]
  },
  {
   "cell_type": "code",
   "execution_count": 0,
   "metadata": {
    "application/vnd.databricks.v1+cell": {
     "cellMetadata": {
      "byteLimit": 2048000,
      "rowLimit": 10000
     },
     "inputWidgets": {},
     "nuid": "003cb7d3-6fe4-4a25-af9f-3787ac53dfd9",
     "showTitle": false,
     "title": ""
    }
   },
   "outputs": [],
   "source": [
    "player_schema = StructType([\n",
    "    StructField(\"player_sk\", IntegerType(), True),\n",
    "    StructField(\"player_id\", IntegerType(), True),\n",
    "    StructField(\"player_name\", StringType(), True),\n",
    "    StructField(\"dob\", DateType(), True),\n",
    "    StructField(\"batting_hand\", StringType(), True),\n",
    "    StructField(\"bowling_skill\", StringType(), True),\n",
    "    StructField(\"country_name\", StringType(), True)\n",
    "])\n",
    "\n",
    "player_df = spark.read.schema(player_schema).format(\"csv\").option(\"header\",\"true\").load(\"s3://ipl-data-analysis-project/Player.csv\")\n"
   ]
  },
  {
   "cell_type": "code",
   "execution_count": 0,
   "metadata": {
    "application/vnd.databricks.v1+cell": {
     "cellMetadata": {
      "byteLimit": 2048000,
      "rowLimit": 10000
     },
     "inputWidgets": {},
     "nuid": "a1756b85-d6fa-4720-85cd-8250f10b079b",
     "showTitle": false,
     "title": ""
    }
   },
   "outputs": [],
   "source": [
    "player_match_schema = StructType([\n",
    "    StructField(\"player_match_sk\", IntegerType(), True),\n",
    "    StructField(\"playermatch_key\", DecimalType(), True),\n",
    "    StructField(\"match_id\", IntegerType(), True),\n",
    "    StructField(\"player_id\", IntegerType(), True),\n",
    "    StructField(\"player_name\", StringType(), True),\n",
    "    StructField(\"dob\", DateType(), True),\n",
    "    StructField(\"batting_hand\", StringType(), True),\n",
    "    StructField(\"bowling_skill\", StringType(), True),\n",
    "    StructField(\"country_name\", StringType(), True),\n",
    "    StructField(\"role_desc\", StringType(), True),\n",
    "    StructField(\"player_team\", StringType(), True),\n",
    "    StructField(\"opposit_team\", StringType(), True),\n",
    "    StructField(\"season_year\", IntegerType(), True),\n",
    "    StructField(\"is_manofthematch\", BooleanType(), True),\n",
    "    StructField(\"age_as_on_match\", IntegerType(), True),\n",
    "    StructField(\"isplayers_team_won\", BooleanType(), True),\n",
    "    StructField(\"batting_status\", StringType(), True),\n",
    "    StructField(\"bowling_status\", StringType(), True),\n",
    "    StructField(\"player_captain\", StringType(), True),\n",
    "    StructField(\"opposit_captain\", StringType(), True),\n",
    "    StructField(\"player_keeper\", StringType(), True),\n",
    "    StructField(\"opposit_keeper\", StringType(), True)\n",
    "])\n",
    "\n",
    "player_match_df = spark.read.schema(player_match_schema).format(\"csv\").option(\"header\",\"true\").load(\"s3://ipl-data-analysis-project/Player_match.csv\")\n"
   ]
  },
  {
   "cell_type": "code",
   "execution_count": 0,
   "metadata": {
    "application/vnd.databricks.v1+cell": {
     "cellMetadata": {
      "byteLimit": 2048000,
      "rowLimit": 10000
     },
     "inputWidgets": {},
     "nuid": "f90fd749-b1d0-4902-b52e-37027521099f",
     "showTitle": false,
     "title": ""
    }
   },
   "outputs": [],
   "source": [
    "team_schema = StructType([\n",
    "    StructField(\"team_sk\", IntegerType(), True),\n",
    "    StructField(\"team_id\", IntegerType(), True),\n",
    "    StructField(\"team_name\", StringType(), True)\n",
    "])\n",
    "\n",
    "team_df = spark.read.schema(team_schema).format(\"csv\").option(\"header\",\"true\").load(\"s3://ipl-data-analysis-project/Team.csv\")\n",
    "\n"
   ]
  },
  {
   "cell_type": "code",
   "execution_count": 0,
   "metadata": {
    "application/vnd.databricks.v1+cell": {
     "cellMetadata": {
      "byteLimit": 2048000,
      "rowLimit": 10000
     },
     "inputWidgets": {},
     "nuid": "cca32299-a9aa-419b-aa0f-0ab9eff56c4f",
     "showTitle": false,
     "title": ""
    }
   },
   "outputs": [
    {
     "output_type": "stream",
     "name": "stdout",
     "output_type": "stream",
     "text": [
      "+-------+-------+--------------------+\n|team_sk|team_id|           team_name|\n+-------+-------+--------------------+\n|      0|      1|Kolkata Knight Ri...|\n|      1|      2|Royal Challengers...|\n|      2|      3| Chennai Super Kings|\n|      3|      4|     Kings XI Punjab|\n|      4|      5|    Rajasthan Royals|\n|      5|      6|    Delhi Daredevils|\n|      6|      7|      Mumbai Indians|\n|      7|      8|     Deccan Chargers|\n|      8|      9|Kochi Tuskers Kerala|\n|      9|     10|       Pune Warriors|\n|     10|     11| Sunrisers Hyderabad|\n|     11|     12|Rising Pune Super...|\n|     12|     13|       Gujarat Lions|\n+-------+-------+--------------------+\n\n"
     ]
    }
   ],
   "source": [
    "team_df.show()\n"
   ]
  },
  {
   "cell_type": "code",
   "execution_count": 0,
   "metadata": {
    "application/vnd.databricks.v1+cell": {
     "cellMetadata": {
      "byteLimit": 2048000,
      "rowLimit": 10000
     },
     "inputWidgets": {},
     "nuid": "55536ae6-3c2e-4c46-a3f5-d1b16f76880e",
     "showTitle": false,
     "title": ""
    }
   },
   "outputs": [],
   "source": [
    "#filtering and getting only valid delivery\n",
    "ball_by_ball_df=ball_by_ball.filter((col(\"wides\")==0) & (col(\"noballs\")==0))"
   ]
  },
  {
   "cell_type": "code",
   "execution_count": 0,
   "metadata": {
    "application/vnd.databricks.v1+cell": {
     "cellMetadata": {
      "byteLimit": 2048000,
      "rowLimit": 10000
     },
     "inputWidgets": {},
     "nuid": "b71697bc-8628-4a21-8b0b-efe81789cf80",
     "showTitle": false,
     "title": ""
    }
   },
   "outputs": [],
   "source": [
    "# Aggregating the total and average of match score in each match and inning >>\\\n",
    "    \n",
    "total_and_avg_runs= ball_by_ball_df.groupBy(\"match_id\",\"innings_no\").agg(\n",
    "    sum(\"runs_scored\").alias(\"total_runs\"),\n",
    "    avg(\"runs_scored\").alias(\"average_runs\")\n",
    "    )"
   ]
  },
  {
   "cell_type": "code",
   "execution_count": 0,
   "metadata": {
    "application/vnd.databricks.v1+cell": {
     "cellMetadata": {
      "byteLimit": 2048000,
      "rowLimit": 10000
     },
     "inputWidgets": {},
     "nuid": "093c3087-829f-4cfd-95e3-7d425aaec937",
     "showTitle": false,
     "title": ""
    }
   },
   "outputs": [],
   "source": [
    "#window function: Calculate running total of runs in each match for each over\n",
    "\n",
    "windowSpec = Window.partitionBy(\"match_id\",\"innings_no\").orderBy(\"over_id\")\n",
    "\n",
    "ball_by_ball_df = ball_by_ball_df.withColumn(\n",
    "    \"running_total_runs\",\n",
    "    sum(\"runs_scored\").over(windowSpec)\n",
    ")"
   ]
  },
  {
   "cell_type": "code",
   "execution_count": 0,
   "metadata": {
    "application/vnd.databricks.v1+cell": {
     "cellMetadata": {
      "byteLimit": 2048000,
      "rowLimit": 10000
     },
     "inputWidgets": {},
     "nuid": "eed7dc14-7ae8-4585-b8a6-697108df5c0c",
     "showTitle": false,
     "title": ""
    }
   },
   "outputs": [
    {
     "output_type": "stream",
     "name": "stdout",
     "output_type": "stream",
     "text": [
      "+--------+-------+-------+----------+------------+------------+------------------------+----------+-----------+----------+-----+-------+----+-------+-------+-------------+--------------+------+------+-------+----+------------+-------+-----------------+----------+----------------+-------------+----------+------+-------+-----------+------+----------+--------+----------------+---------+-------------------+-------------+----------------+----------+---------------+---------+------------------+--------------+--------------+------------+-------------+-----------+------------------+-----------+\n|match_id|over_id|ball_id|innings_no|team_batting|team_bowling|striker_batting_position|extra_type|runs_scored|extra_runs|wides|legbyes|byes|noballs|penalty|bowler_extras|      out_type|caught|bowled|run_out| lbw|retired_hurt|stumped|caught_and_bowled|hit_wicket|obstructingfeild|bowler_wicket|match_date|season|striker|non_striker|bowler|player_out|fielders|striker_match_sk|strikersk|nonstriker_match_sk|nonstriker_sk|fielder_match_sk|fielder_sk|bowler_match_sk|bowler_sk|playerout_match_sk|battingteam_sk|bowlingteam_sk|keeper_catch|player_out_sk|matchdatesk|running_total_runs|high_impact|\n+--------+-------+-------+----------+------------+------------+------------------------+----------+-----------+----------+-----+-------+----+-------+-------+-------------+--------------+------+------+-------+----+------------+-------+-----------------+----------+----------------+-------------+----------+------+-------+-----------+------+----------+--------+----------------+---------+-------------------+-------------+----------------+----------+---------------+---------+------------------+--------------+--------------+------------+-------------+-----------+------------------+-----------+\n|  335987|      1|      1|         1|           1|           2|                       1|   legbyes|          0|         1|    0|      1|   0|      0|      0|            0|Not Applicable|  null|  null|   null|null|        null|   null|             null|      null|            null|         null|      null|  2008|      1|          2|    14|      null|    null|           12705|        0|              12706|            1|              -1|        -1|          12702|       13|                -1|             0|             1|        null|            0|       null|                 0|      false|\n|  335987|      1|      2|         1|           1|           2|                       2| No Extras|          0|         0|    0|      0|   0|      0|      0|            0|Not Applicable|  null|  null|   null|null|        null|   null|             null|      null|            null|         null|      null|  2008|      2|          1|    14|      null|    null|           12706|        1|              12705|            0|              -1|        -1|          12702|       13|                -1|             0|             1|        null|            0|       null|                 0|      false|\n|  335987|      1|      4|         1|           1|           2|                       2| No Extras|          0|         0|    0|      0|   0|      0|      0|            0|Not Applicable|  null|  null|   null|null|        null|   null|             null|      null|            null|         null|      null|  2008|      2|          1|    14|      null|    null|           12706|        1|              12705|            0|              -1|        -1|          12702|       13|                -1|             0|             1|        null|            0|       null|                 0|      false|\n|  335987|      1|      5|         1|           1|           2|                       2| No Extras|          0|         0|    0|      0|   0|      0|      0|            0|Not Applicable|  null|  null|   null|null|        null|   null|             null|      null|            null|         null|      null|  2008|      2|          1|    14|      null|    null|           12706|        1|              12705|            0|              -1|        -1|          12702|       13|                -1|             0|             1|        null|            0|       null|                 0|      false|\n|  335987|      1|      6|         1|           1|           2|                       2| No Extras|          0|         0|    0|      0|   0|      0|      0|            0|Not Applicable|  null|  null|   null|null|        null|   null|             null|      null|            null|         null|      null|  2008|      2|          1|    14|      null|    null|           12706|        1|              12705|            0|              -1|        -1|          12702|       13|                -1|             0|             1|        null|            0|       null|                 0|      false|\n+--------+-------+-------+----------+------------+------------+------------------------+----------+-----------+----------+-----+-------+----+-------+-------+-------------+--------------+------+------+-------+----+------------+-------+-----------------+----------+----------------+-------------+----------+------+-------+-----------+------+----------+--------+----------------+---------+-------------------+-------------+----------------+----------+---------------+---------+------------------+--------------+--------------+------------+-------------+-----------+------------------+-----------+\nonly showing top 5 rows\n\n"
     ]
    }
   ],
   "source": [
    "# Conditional Column: Flag for high impact balls (either a wicket or more than 6 runs including extras)\n",
    "ball_by_ball_df = ball_by_ball_df.withColumn(\n",
    "    \"high_impact\",\n",
    "    when((col(\"runs_scored\") + col(\"extra_runs\") > 6) | (col(\"bowler_wicket\") == True), True).otherwise(False)\n",
    ")\n",
    "     \n",
    "ball_by_ball_df.show(5)     \n"
   ]
  },
  {
   "cell_type": "code",
   "execution_count": 0,
   "metadata": {
    "application/vnd.databricks.v1+cell": {
     "cellMetadata": {
      "byteLimit": 2048000,
      "rowLimit": 10000
     },
     "inputWidgets": {},
     "nuid": "b3aaaf78-3e0e-4787-92d6-6d4eccb0c278",
     "showTitle": false,
     "title": ""
    }
   },
   "outputs": [
    {
     "output_type": "stream",
     "name": "stdout",
     "output_type": "stream",
     "text": [
      "+--------+--------+--------------------+--------------------+----------+-----------+--------------------+----------+------------+--------------------+--------------------+---------+--------+------------+-----------+----------+----------+----+-----+----+-------------------+-----------------+\n|match_sk|match_id|               team1|               team2|match_date|season_year|          venue_name| city_name|country_name|         toss_winner|        match_winner|toss_name|win_type|outcome_type|  manofmach|win_margin|country_id|year|month| day|win_margin_category|toss_match_winner|\n+--------+--------+--------------------+--------------------+----------+-----------+--------------------+----------+------------+--------------------+--------------------+---------+--------+------------+-----------+----------+----------+----+-----+----+-------------------+-----------------+\n|       0|  335987|Royal Challengers...|Kolkata Knight Ri...|      null|       2008|M Chinnaswamy Sta...| Bangalore|       India|Royal Challengers...|Kolkata Knight Ri...|    field|    runs|      Result|BB McCullum|       140|         1|null| null|null|               High|               No|\n|       1|  335988|     Kings XI Punjab| Chennai Super Kings|      null|       2008|Punjab Cricket As...|Chandigarh|       India| Chennai Super Kings| Chennai Super Kings|      bat|    runs|      Result| MEK Hussey|        33|         1|null| null|null|                Low|              Yes|\n+--------+--------+--------------------+--------------------+----------+-----------+--------------------+----------+------------+--------------------+--------------------+---------+--------+------------+-----------+----------+----------+----+-----+----+-------------------+-----------------+\nonly showing top 2 rows\n\n"
     ]
    }
   ],
   "source": [
    " \n",
    "from pyspark.sql.functions import year, month, dayofmonth, when\n",
    "\n",
    "# Extracting year, month, and day from the match date for more detailed time-based analysis\n",
    "match_df = match_df.withColumn(\"year\", year(\"match_date\"))\n",
    "match_df = match_df.withColumn(\"month\", month(\"match_date\"))\n",
    "match_df = match_df.withColumn(\"day\", dayofmonth(\"match_date\"))\n",
    "\n",
    "# High margin win: categorizing win margins into 'high', 'medium', and 'low'\n",
    "match_df = match_df.withColumn(\n",
    "    \"win_margin_category\",\n",
    "    when(col(\"win_margin\") >= 100, \"High\")\n",
    "    .when((col(\"win_margin\") >= 50) & (col(\"win_margin\") < 100), \"Medium\")\n",
    "    .otherwise(\"Low\")\n",
    ")\n",
    "\n",
    "# Analyze the impact of the toss: who wins the toss and the match\n",
    "match_df = match_df.withColumn(\n",
    "    \"toss_match_winner\",\n",
    "    when(col(\"toss_winner\") == col(\"match_winner\"), \"Yes\").otherwise(\"No\")\n",
    ")\n",
    "\n",
    "# Show the enhanced match DataFrame\n",
    "match_df.show(2)\n"
   ]
  },
  {
   "cell_type": "code",
   "execution_count": 0,
   "metadata": {
    "application/vnd.databricks.v1+cell": {
     "cellMetadata": {
      "byteLimit": 2048000,
      "rowLimit": 10000
     },
     "inputWidgets": {},
     "nuid": "a31dfd4d-bb6d-449a-a2f0-cccfc0f66f9b",
     "showTitle": false,
     "title": ""
    }
   },
   "outputs": [
    {
     "output_type": "stream",
     "name": "stdout",
     "output_type": "stream",
     "text": [
      "+---------+---------+-----------+----+--------------+----------------+------------+-------------+\n|player_sk|player_id|player_name| dob|  batting_hand|   bowling_skill|country_name|batting_style|\n+---------+---------+-----------+----+--------------+----------------+------------+-------------+\n|        0|        1| sc ganguly|null| Left-hand bat|Right-arm medium|       India| Right-Handed|\n|        1|        2|bb mccullum|null|Right-hand bat|Right-arm medium| New Zealand| Right-Handed|\n+---------+---------+-----------+----+--------------+----------------+------------+-------------+\nonly showing top 2 rows\n\n"
     ]
    }
   ],
   "source": [
    "\n",
    "from pyspark.sql.functions import lower, regexp_replace\n",
    "\n",
    "# Normalize and clean player names\n",
    "player_df = player_df.withColumn(\"player_name\", lower(regexp_replace(\"player_name\", \"[^a-zA-Z0-9 ]\", \"\")))\n",
    "\n",
    "# Handle missing values in 'batting_hand' and 'bowling_skill' with a default 'unknown'\n",
    "player_df = player_df.na.fill({\"batting_hand\": \"unknown\", \"bowling_skill\": \"unknown\"})\n",
    "\n",
    "# Categorizing players based on batting hand\n",
    "player_df = player_df.withColumn(\n",
    "    \"batting_style\",\n",
    "    when(col(\"batting_hand\").contains(\"left\"), \"Left-Handed\").otherwise(\"Right-Handed\")\n",
    ")\n",
    "\n",
    "# Show the modified player DataFrame\n",
    "player_df.show(2)"
   ]
  },
  {
   "cell_type": "code",
   "execution_count": 0,
   "metadata": {
    "application/vnd.databricks.v1+cell": {
     "cellMetadata": {
      "byteLimit": 2048000,
      "rowLimit": 10000
     },
     "inputWidgets": {},
     "nuid": "a7051653-e846-4875-9bfe-eb566ca5786c",
     "showTitle": false,
     "title": ""
    }
   },
   "outputs": [
    {
     "output_type": "stream",
     "name": "stdout",
     "output_type": "stream",
     "text": [
      "+---------------+---------------+--------+---------+---------------+----+--------------+--------------------+------------+---------+--------------------+--------------------+-----------+----------------+---------------+------------------+--------------+--------------+--------------+---------------+-------------+--------------+--------------+-----------------+\n|player_match_sk|playermatch_key|match_id|player_id|    player_name| dob|  batting_hand|       bowling_skill|country_name|role_desc|         player_team|        opposit_team|season_year|is_manofthematch|age_as_on_match|isplayers_team_won|batting_status|bowling_status|player_captain|opposit_captain|player_keeper|opposit_keeper|veteran_status|years_since_debut|\n+---------------+---------------+--------+---------+---------------+----+--------------+--------------------+------------+---------+--------------------+--------------------+-----------+----------------+---------------+------------------+--------------+--------------+--------------+---------------+-------------+--------------+--------------+-----------------+\n|             -1|             -1|      -1|       -1|            N/A|null|          null|                null|        null|     null|                null|                null|       null|            null|           null|              null|          null|          null|          null|           null|         null|          null|   Non-Veteran|             null|\n|          12694|           null|  335987|        6|       R Dravid|null|Right-hand bat|  Right-arm offbreak|       India|  Captain|Royal Challengers...|Kolkata Knight Ri...|       2008|            null|             35|              null|          null|          null|      R Dravid|     SC Ganguly|   MV Boucher|       WP Saha|       Veteran|               16|\n|          12695|           null|  335987|        7|       W Jaffer|null|Right-hand bat|  Right-arm offbreak|       India|   Player|Royal Challengers...|Kolkata Knight Ri...|       2008|            null|             30|              null|          null|          null|      R Dravid|     SC Ganguly|   MV Boucher|       WP Saha|   Non-Veteran|               16|\n|          12696|           null|  335987|        8|        V Kohli|null|Right-hand bat|    Right-arm medium|       India|   Player|Royal Challengers...|Kolkata Knight Ri...|       2008|            null|             20|              null|          null|          null|      R Dravid|     SC Ganguly|   MV Boucher|       WP Saha|   Non-Veteran|               16|\n|          12697|           null|  335987|        9|      JH Kallis|null|Right-hand bat|Right-arm fast-me...|South Africa|   Player|Royal Challengers...|Kolkata Knight Ri...|       2008|            null|             33|              null|          null|          null|      R Dravid|     SC Ganguly|   MV Boucher|       WP Saha|   Non-Veteran|               16|\n|          12698|           null|  335987|       10|       CL White|null|Right-hand bat|     Legbreak googly|   Australia|   Player|Royal Challengers...|Kolkata Knight Ri...|       2008|            null|             25|              null|          null|          null|      R Dravid|     SC Ganguly|   MV Boucher|       WP Saha|   Non-Veteran|               16|\n|          12699|           null|  335987|       11|     MV Boucher|null|Right-hand bat|    Right-arm medium|South Africa|   Keeper|Royal Challengers...|Kolkata Knight Ri...|       2008|            null|             32|              null|          null|          null|      R Dravid|     SC Ganguly|   MV Boucher|       WP Saha|   Non-Veteran|               16|\n|          12700|           null|  335987|       12|        B Akhil|null|Right-hand bat|Right-arm medium-...|       India|   Player|Royal Challengers...|Kolkata Knight Ri...|       2008|            null|             31|              null|          null|          null|      R Dravid|     SC Ganguly|   MV Boucher|       WP Saha|   Non-Veteran|               16|\n|          12701|           null|  335987|       13|      AA Noffke|null|Right-hand bat|Right-arm fast-me...|   Australia|   Player|Royal Challengers...|Kolkata Knight Ri...|       2008|            null|             31|              null|          null|          null|      R Dravid|     SC Ganguly|   MV Boucher|       WP Saha|   Non-Veteran|               16|\n|          12702|           null|  335987|       14|        P Kumar|null|Right-hand bat|    Right-arm medium|       India|   Player|Royal Challengers...|Kolkata Knight Ri...|       2008|            null|             22|              null|          null|          null|      R Dravid|     SC Ganguly|   MV Boucher|       WP Saha|   Non-Veteran|               16|\n|          12703|           null|  335987|       15|         Z Khan|null|Right-hand bat|Left-arm fast-medium|       India|   Player|Royal Challengers...|Kolkata Knight Ri...|       2008|            null|             30|              null|          null|          null|      R Dravid|     SC Ganguly|   MV Boucher|       WP Saha|   Non-Veteran|               16|\n|          12704|           null|  335987|       16|       SB Joshi|null| Left-hand bat|Slow left-arm ort...|       India|   Player|Royal Challengers...|Kolkata Knight Ri...|       2008|            null|             38|              null|          null|          null|      R Dravid|     SC Ganguly|   MV Boucher|       WP Saha|       Veteran|               16|\n|          12705|           null|  335987|        1|     SC Ganguly|null| Left-hand bat|    Right-arm medium|       India|  Captain|Kolkata Knight Ri...|Royal Challengers...|       2008|            null|             36|              null|          null|          null|    SC Ganguly|       R Dravid|      WP Saha|    MV Boucher|       Veteran|               16|\n|          12706|           null|  335987|        2|    BB McCullum|null|Right-hand bat|    Right-arm medium| New Zealand|   Player|Kolkata Knight Ri...|Royal Challengers...|       2008|            null|             27|              null|          null|          null|    SC Ganguly|       R Dravid|      WP Saha|    MV Boucher|   Non-Veteran|               16|\n|          12707|           null|  335987|        3|     RT Ponting|null|Right-hand bat|    Right-arm medium|   Australia|   Player|Kolkata Knight Ri...|Royal Challengers...|       2008|            null|             34|              null|          null|          null|    SC Ganguly|       R Dravid|      WP Saha|    MV Boucher|   Non-Veteran|               16|\n|          12708|           null|  335987|        4|      DJ Hussey|null|Right-hand bat|  Right-arm offbreak|   Australia|   Player|Kolkata Knight Ri...|Royal Challengers...|       2008|            null|             31|              null|          null|          null|    SC Ganguly|       R Dravid|      WP Saha|    MV Boucher|   Non-Veteran|               16|\n|          12709|           null|  335987|        5|Mohammad Hafeez|null|Right-hand bat|  Right-arm offbreak|    Pakistan|   Player|Kolkata Knight Ri...|Royal Challengers...|       2008|            null|             28|              null|          null|          null|    SC Ganguly|       R Dravid|      WP Saha|    MV Boucher|   Non-Veteran|               16|\n|          12710|           null|  335987|       62|        WP Saha|null|Right-hand bat|                 N/A|       India|   Keeper|Kolkata Knight Ri...|Royal Challengers...|       2008|            null|             24|              null|          null|          null|    SC Ganguly|       R Dravid|      WP Saha|    MV Boucher|   Non-Veteran|               16|\n|          12711|           null|  335987|       63|      LR Shukla|null|Right-hand bat|    Right-arm medium|       India|   Player|Kolkata Knight Ri...|Royal Challengers...|       2008|            null|             27|              null|          null|          null|    SC Ganguly|       R Dravid|      WP Saha|    MV Boucher|   Non-Veteran|               16|\n|          12712|           null|  335987|       82|     AB Agarkar|null|Right-hand bat|      Right-arm fast|       India|   Player|Kolkata Knight Ri...|Royal Challengers...|       2008|            null|             31|              null|          null|          null|    SC Ganguly|       R Dravid|      WP Saha|    MV Boucher|   Non-Veteran|               16|\n+---------------+---------------+--------+---------+---------------+----+--------------+--------------------+------------+---------+--------------------+--------------------+-----------+----------------+---------------+------------------+--------------+--------------+--------------+---------------+-------------+--------------+--------------+-----------------+\nonly showing top 20 rows\n\n"
     ]
    }
   ],
   "source": [
    "\n",
    "from pyspark.sql.functions import col, when, current_date, expr\n",
    "\n",
    "# Add a 'veteran_status' column based on player age\n",
    "player_match_df = player_match_df.withColumn(\n",
    "    \"veteran_status\",\n",
    "    when(col(\"age_as_on_match\") >= 35, \"Veteran\").otherwise(\"Non-Veteran\")\n",
    ")\n",
    "\n",
    "# Dynamic column to calculate years since debut\n",
    "player_match_df = player_match_df.withColumn(\n",
    "    \"years_since_debut\",\n",
    "    (year(current_date()) - col(\"season_year\"))\n",
    ")\n",
    "\n",
    "# Show the enriched DataFrame\n",
    "player_match_df.show()"
   ]
  },
  {
   "cell_type": "code",
   "execution_count": 0,
   "metadata": {
    "application/vnd.databricks.v1+cell": {
     "cellMetadata": {
      "byteLimit": 2048000,
      "rowLimit": 10000
     },
     "inputWidgets": {},
     "nuid": "adbb759c-cd5b-4a62-90d1-6d1e48cc2f05",
     "showTitle": false,
     "title": ""
    }
   },
   "outputs": [],
   "source": [
    "\n",
    "ball_by_ball_df.createOrReplaceTempView(\"ball_by_ball\")\n",
    "match_df.createOrReplaceTempView(\"match\")\n",
    "player_df.createOrReplaceTempView(\"player\")\n",
    "player_match_df.createOrReplaceTempView(\"player_match\")\n",
    "team_df.createOrReplaceTempView(\"team\")"
   ]
  },
  {
   "cell_type": "code",
   "execution_count": 0,
   "metadata": {
    "application/vnd.databricks.v1+cell": {
     "cellMetadata": {
      "byteLimit": 2048000,
      "rowLimit": 10000
     },
     "inputWidgets": {},
     "nuid": "d8043850-a907-4dab-ad6d-c2f256acd802",
     "showTitle": false,
     "title": ""
    }
   },
   "outputs": [
    {
     "output_type": "stream",
     "name": "stdout",
     "output_type": "stream",
     "text": [
      "+---------------+-----------+----------+\n|    player_name|season_year|total_runs|\n+---------------+-----------+----------+\n|       se marsh|       2008|       614|\n|      g gambhir|       2008|       532|\n|  st jayasuriya|       2008|       508|\n|      sr watson|       2008|       463|\n|       gc smith|       2008|       437|\n|   ac gilchrist|       2008|       431|\n|      yk pathan|       2008|       430|\n|       sk raina|       2008|       420|\n|       ms dhoni|       2008|       414|\n|       v sehwag|       2008|       399|\n|      rg sharma|       2008|       399|\n|       r dravid|       2008|       370|\n|     sc ganguly|       2008|       349|\n|       s dhawan|       2008|       340|\n|  kc sangakkara|       2008|       319|\n|      dj hussey|       2008|       318|\n|     rv uthappa|       2008|       316|\n|    sa asnodkar|       2008|       311|\n|   yuvraj singh|       2008|       299|\n|       pa patel|       2008|       297|\n|y venugopal rao|       2008|       283|\n|      ja morkel|       2008|       235|\n|     mv boucher|       2008|       225|\n|       jr hopes|       2008|       221|\n|       am nayar|       2008|       205|\n|      jh kallis|       2008|       199|\n|    salman butt|       2008|       192|\n|     sp fleming|       2008|       192|\n|    s badrinath|       2008|       192|\n|   sr tendulkar|       2008|       188|\n+---------------+-----------+----------+\nonly showing top 30 rows\n\n"
     ]
    }
   ],
   "source": [
    "top_scoring_batsmen_per_season = spark.sql(\"\"\"\n",
    "SELECT \n",
    "p.player_name,\n",
    "m.season_year,\n",
    "SUM(b.runs_scored) AS total_runs \n",
    "FROM ball_by_ball b\n",
    "JOIN match m ON b.match_id = m.match_id   \n",
    "JOIN player_match pm ON m.match_id = pm.match_id AND b.striker = pm.player_id     \n",
    "JOIN player p ON p.player_id = pm.player_id\n",
    "GROUP BY p.player_name, m.season_year\n",
    "ORDER BY m.season_year, total_runs DESC\n",
    "\"\"\")\n",
    "\n",
    "#top scoring batsman per season\n",
    "top_scoring_batsmen_per_season.show(30)"
   ]
  },
  {
   "cell_type": "code",
   "execution_count": 0,
   "metadata": {
    "application/vnd.databricks.v1+cell": {
     "cellMetadata": {
      "byteLimit": 2048000,
      "rowLimit": 10000
     },
     "inputWidgets": {},
     "nuid": "19d88741-d1c0-4a96-8ee7-0e8a6566be22",
     "showTitle": false,
     "title": ""
    }
   },
   "outputs": [
    {
     "output_type": "stream",
     "name": "stdout",
     "output_type": "stream",
     "text": [
      "+---------------+------------------+-------------+\n|    player_name| avg_runs_per_ball|total_wickets|\n+---------------+------------------+-------------+\n|     sm harwood|0.3333333333333333|            0|\n|     ankit soni|               0.5|            0|\n|      gr napier|               0.5|            0|\n|       aj finch|               0.5|            0|\n|        a zampa|               0.5|            0|\n|     avesh khan|               0.5|            0|\n|       nb singh|0.5833333333333334|            0|\n|     ag murtaza|0.6538461538461539|            0|\n|      sb bangar|0.6666666666666666|            0|\n|     d du preez|0.6666666666666666|            0|\n|        s gopal|0.6666666666666666|            0|\n|     fh edwards|0.6923076923076923|            0|\n|       a kumble|0.7685185185185185|            0|\n|j syed mohammad|0.7777777777777778|            0|\n|   kp pietersen|0.7777777777777778|            0|\n|       umar gul|0.7777777777777778|            0|\n|  la carseldine|0.8333333333333334|            0|\n|    rj peterson|0.8333333333333334|            0|\n|      ss mundhe|0.8333333333333334|            0|\n|       tl suman|0.8333333333333334|            0|\n+---------------+------------------+-------------+\nonly showing top 20 rows\n\n"
     ]
    }
   ],
   "source": [
    "economical_bowlers_powerplay = spark.sql(\"\"\"\n",
    "SELECT \n",
    "p.player_name, \n",
    "AVG(b.runs_scored) AS avg_runs_per_ball, \n",
    "COUNT(b.bowler_wicket) AS total_wickets\n",
    "FROM ball_by_ball b\n",
    "JOIN player_match pm ON b.match_id = pm.match_id AND b.bowler = pm.player_id\n",
    "JOIN player p ON pm.player_id = p.player_id\n",
    "WHERE b.over_id <= 6\n",
    "GROUP BY p.player_name\n",
    "HAVING COUNT(*) >= 1\n",
    "ORDER BY avg_runs_per_ball, total_wickets DESC\n",
    "\"\"\")\n",
    "economical_bowlers_powerplay.show()\n"
   ]
  },
  {
   "cell_type": "code",
   "execution_count": 0,
   "metadata": {
    "application/vnd.databricks.v1+cell": {
     "cellMetadata": {
      "byteLimit": 2048000,
      "rowLimit": 10000
     },
     "inputWidgets": {},
     "nuid": "65d134ee-5a56-4436-80e6-df690ed39e98",
     "showTitle": false,
     "title": ""
    }
   },
   "outputs": [
    {
     "output_type": "stream",
     "name": "stdout",
     "output_type": "stream",
     "text": [
      "+--------+--------------------+---------+--------------------+-------------+\n|match_id|         toss_winner|toss_name|        match_winner|match_outcome|\n+--------+--------------------+---------+--------------------+-------------+\n|  335987|Royal Challengers...|    field|Kolkata Knight Ri...|         Lost|\n|  335988| Chennai Super Kings|      bat| Chennai Super Kings|          Won|\n|  335989|    Rajasthan Royals|      bat|    Delhi Daredevils|         Lost|\n|  335990|      Mumbai Indians|      bat|Royal Challengers...|         Lost|\n|  335991|     Deccan Chargers|      bat|Kolkata Knight Ri...|         Lost|\n|  335992|     Kings XI Punjab|      bat|    Rajasthan Royals|         Lost|\n|  335993|     Deccan Chargers|      bat|    Delhi Daredevils|         Lost|\n|  335994|      Mumbai Indians|    field| Chennai Super Kings|         Lost|\n|  335995|    Rajasthan Royals|    field|    Rajasthan Royals|          Won|\n|  335996|      Mumbai Indians|    field|     Kings XI Punjab|         Lost|\n|  335997|    Rajasthan Royals|    field|    Rajasthan Royals|          Won|\n|  335998|Kolkata Knight Ri...|      bat| Chennai Super Kings|         Lost|\n|  335999|     Deccan Chargers|    field|     Deccan Chargers|          Won|\n|  336000|    Delhi Daredevils|      bat|     Kings XI Punjab|         Lost|\n|  336001| Chennai Super Kings|      bat| Chennai Super Kings|          Won|\n|  336002|Kolkata Knight Ri...|      bat|      Mumbai Indians|         Lost|\n|  336003|Royal Challengers...|    field|    Delhi Daredevils|         Lost|\n|  336004|     Kings XI Punjab|    field|     Kings XI Punjab|          Won|\n|  336005|    Rajasthan Royals|      bat|    Rajasthan Royals|          Won|\n|  336006| Chennai Super Kings|      bat|    Delhi Daredevils|         Lost|\n+--------+--------------------+---------+--------------------+-------------+\nonly showing top 20 rows\n\n"
     ]
    }
   ],
   "source": [
    "\n",
    "toss_impact_individual_matches = spark.sql(\"\"\"\n",
    "SELECT m.match_id, m.toss_winner, m.toss_name, m.match_winner,\n",
    "       CASE WHEN m.toss_winner = m.match_winner THEN 'Won' ELSE 'Lost' END AS match_outcome\n",
    "FROM match m\n",
    "WHERE m.toss_name IS NOT NULL\n",
    "ORDER BY m.match_id\n",
    "\"\"\")\n",
    "toss_impact_individual_matches.show()"
   ]
  },
  {
   "cell_type": "code",
   "execution_count": 0,
   "metadata": {
    "application/vnd.databricks.v1+cell": {
     "cellMetadata": {
      "byteLimit": 2048000,
      "rowLimit": 10000
     },
     "inputWidgets": {},
     "nuid": "3c29a5bd-3039-4cd1-873c-447e9079ea1b",
     "showTitle": false,
     "title": ""
    }
   },
   "outputs": [
    {
     "output_type": "stream",
     "name": "stdout",
     "output_type": "stream",
     "text": [
      "+--------------+-------------------+--------------+\n|   player_name|   avg_runs_in_wins|innings_played|\n+--------------+-------------------+--------------+\n|       a nehra|                0.0|             2|\n|    kp appanna|                0.0|             1|\n|     jj bumrah|                0.0|             2|\n|      i sharma|                0.0|             1|\n|      ts mills|                0.0|             3|\n|      j theron|                0.0|             1|\n|      vr aaron|                0.0|             5|\n|     sn thakur|                0.0|             2|\n| anirudh singh|                0.0|             1|\n|    t thushara|                0.2|             5|\n|     sa abbott|               0.25|             4|\n| yashpal singh| 0.3157894736842105|            19|\n|   s sreesanth| 0.3333333333333333|             3|\n|   kc cariappa| 0.3333333333333333|             3|\n|    jd unadkat|                0.4|             5|\n|    sm harwood|0.42857142857142855|             7|\n|      r shukla|                0.5|             2|\n|       jm kemp|                0.5|             8|\n|       b kumar|                0.5|            10|\n|sandeep sharma|                0.5|             6|\n+--------------+-------------------+--------------+\nonly showing top 20 rows\n\n"
     ]
    }
   ],
   "source": [
    "\n",
    "average_runs_in_wins = spark.sql(\"\"\"\n",
    "SELECT p.player_name, AVG(b.runs_scored) AS avg_runs_in_wins, COUNT(*) AS innings_played\n",
    "FROM ball_by_ball b\n",
    "JOIN player_match pm ON b.match_id = pm.match_id AND b.striker = pm.player_id\n",
    "JOIN player p ON pm.player_id = p.player_id\n",
    "JOIN match m ON pm.match_id = m.match_id\n",
    "WHERE m.match_winner = pm.player_team\n",
    "GROUP BY p.player_name\n",
    "ORDER BY avg_runs_in_wins ASC\n",
    "\"\"\")\n",
    "average_runs_in_wins.show()\n"
   ]
  },
  {
   "cell_type": "code",
   "execution_count": 0,
   "metadata": {
    "application/vnd.databricks.v1+cell": {
     "cellMetadata": {
      "byteLimit": 2048000,
      "rowLimit": 10000
     },
     "inputWidgets": {},
     "nuid": "dc9618c1-d983-403b-9bdf-4c84236ae3cd",
     "showTitle": false,
     "title": ""
    }
   },
   "outputs": [
    {
     "output_type": "display_data",
     "data": {
      "image/png": "[encoded data removed]"
     },
     "metadata": {
      "application/vnd.databricks.v1+output": {
       "addedWidgets": {},
       "arguments": {},
       "data": "data:image/png;base64,iVBORw0KGgoAAAANSUhEUgAAA1gAAAI4CAYAAAB3HEhGAAAAOXRFWHRTb2Z0d2FyZQBNYXRwbG90bGliIHZlcnNpb24zLjUuMSwgaHR0cHM6Ly9tYXRwbG90bGliLm9yZy/YYfK9AAAACXBIWXMAAAsTAAALEwEAmpwYAABVFklEQVR4nO3dd5RsVZmG8ecliaKIDpgAJYiBUTEgZsWAggooIoJgVjBgTpgQMeeIjuA4RkTFMKgoZtQZA6AoguIAioAoUUHJ8M0fezcUTd97+8Kpru7bz2+tu27XqdPVu09XOO/Ze387VYUkSZIk6bpbadINkCRJkqQVhQFLkiRJkgZiwJIkSZKkgRiwJEmSJGkgBixJkiRJGogBS5IkSZIGYsCSpAUmyauTfOw6PsYGSSrJKkO161q0YZ8kn5mDn3Odj9dCkeSHSZ456XbMtSR7JHnfpNsxG0l+keTfJ90OSeNjwJI055L8KcklSdaetv1X/aR/g+v4+JXktku5/6lJLk/yz2n/bnVdfu5cqaq3VNVYT6L73+jCflzOTfKNJOuP82eOy3U5Xkk+0Z+r/0xyTpLvJLnD0G1cCPrr5pgkFyT5a5KPJFlrHrRrNeC1wDuTPGDk9fyv/l4w+hq/9UA/8439WFyWZJ8Z7n9ikpN7G76a5KYjd78L2HeIdkianwxYkiblj8AuUzeS3Bm4wRz+/J9W1Q2n/fvLHP78hWDbqrohcEvgb8AHJ9weANLM5efXO/pxWA84A/jEHP7sK024t/GlwNuBlwM3Bu4N3Ab4Tg84Q/6s5f09twd+X1WnVdWPp17PwFQv0Vojr/E/D9TME4BXAN+Yfkfvnfoo8CTg5sAFwIdHdjkEeHCSWwzUFknzjAFL0qR8GnjyyO2nAJ8a3SHJjZN8KsmZ/Wrwa6dOrJPcNsnhSf6R5Kwkn+/bf9S//df9ivUTlrdhSdZP8uX+c89O8qG+faXehpOTnNHbduN+39SQu6ck+XNv02tGHvN6Sd6X5C/93/uSXK/ft2WSU5O8oj/u6Ukek+SRSf7Qe05ePfJYVxtal+T+Sf43yd+TnJLkqX37o3qv4Hl9+z7LeywAquoi4GBg05GfubS/zclJ7tG/3rUfl3/vt5+R5KtLOO73Hvk9fp1ky5H7fpjkzUn+h3bCulHvUTkpyflJ/phk1yU87pXHa1l/p2UchwuAA4E79ce6Y2/X35Mcm2S7vn3Dvm3qeByQ5IyR9nw6yYtGjuN/9r/5aUnelGTlft9Tk/xPkvcmORvYZ2Tbh/pz//dJHrqE33vjJN/vz+Gzknw2vccpycuTfGna/h9I8v4ZHmdN4A3A86vqW1V1aVX9CdgJ2ADYLcmt0no8bzryfXfrP3fVfvvpSX6X1iN6WJLbjOxbSZ6X5P+A/0vz3v56OC+tt+hOS/jTbAMcvoT7Rn+PWyU5pL+eTkjyrJH79klycJLP9+fTL5NstqTHqqpPVtU3gfNnuHtX4GtV9aOq+ifwOmCHJDfq33sRcBTwiGW1WdLCZMCSNCk/A9bsJ6krAzsD0+fjfJB2tXwj4EG0QPa0ft8bgW8DN6H1LHwQoKoe2O/frF+x/vzyNKq35evAybSTx3WBg/rdT+3/HtzbdEPgQ9Me4v7A7YGHAnsnuWPf/hraVf+7ApsBW9CGNU25BbB6/3l7AwcAuwH3AB4AvC7JhjO09zbAN/vvv05//KP73f+iHbO1gEcBz0nymNkch2k/4wbAE2h/sylL+9scDmzZv34QcBLwwJHb1zgZTrIurTfgTcBNgZcBX0qyzshuTwJ2B24EnAl8ANimqm4E3Jerfu/ZWNLfaYmS3JB28vyrHhq+RnsO3gx4PvDZJLevqj8C5wF369/6QOCfIz9j9Bh8ArgMuG3f/+HA6HDGe9GO382BN49sOxFYG3g98OVcfQjalU0G3grcCrgjsD6wT7/vM8DWI4FrFdpr8FPXeJR2bFcHvjy6sYeHQ4Gteu/vT4HHjezyRODgqro0yfbAq4EdaM/THwOfm/ZzHtN/t037cXggcDva82wn4OwZ2gZwZ+D4Jdw36iDgVNrx2BF4S5KHjNy/PfBF2vPvQOCrU+FwOf078OupG1V1InAJ7XeZ8jva+4CkFZABS9IkTfVibUU74Tht6o6R0PWqqjq/XzF/N+0kG+BS2hClW1XVRVX1k+X82ffuvQxT/07s27egnYC9vKr+Ne2xdwXeU1Un9ZPLVwE75+pDmt5QVRdW1a9pJ1mbjXzvvlV1RlWdSesReNLI910KvLmqLqWdCK4NvL//7scCxzHzCdkTge9W1ed6z8LZVXU0QFX9sKqOqaorquo3tBPaBy3HMfpqkr8D/6D9jd4Js/rbHD7ycx5AO8mfuj1jwKKFyUOr6tDe3u8ARwKPHNnnE1V1bFVdRgslVwB3SnL9qjq9H6fZWtLfaSYv68fhBFqofiotLN8QeFtVXVJV36cF86lhr4cDD8pVw8AO7rc3BNak9bDevP9+L+rPtTOA99KO7ZS/VNUHq+qyqrqwbzsDeF//e3+eFi4eNb3RVXVCVX2nqi7uz7n30P8OVXU68CPg8X33rYGzquqoGX7/tft9l81w3+n9fmihZBdowzj773Fgv+/ZwFur6nf9cd4C3HW0F6vff07/PS+lBek7AOnfd/oMPx/aBYSZepKulDZ/8H7AK/tr+mjgY1y9F/2oqjq4vwbfQwuV917a4y7BDWmvmVH/oP0+U87v7Za0AjJgSZqkT9MCwlO55pXztYFVaT1JU06m9fBAm/8Q4Bd9eNbTl/Nn/6yq1hr5t3Hfvj5w8hJOJm81Q3tWofUuTPnryNcX0E62lvS9o0U1zq6qy/vXUyfSfxu5/8KRxxq1Pq034xqS3CvJD9KG8f2DdpK79kz7LsFjqmot2onmnsDhPTAs629zOPCAJLcEVga+ANwvrXjJjZm5p+k2wONHQy+tl+mWI/ucMvVFVf2L1qv2bOD0tCIcy1N8Ykl/p5m8qz9HblFV2/UeiVsBp1TVFSP7TT8GW9J6YX4E/JAWbh4E/Lh/321ox/H0kd/5o7QesWv8ziNOq6qa9nOvUaAlyc2THNSHHp5H67Ua/ft/khZs6f9/egm//1nA2pl5btQt+/0AXwLu0//uD6QF4B/3+24DvH/k9zyH9vpdd+SxRv++36f1Du8HnJFk/z5UcSbncvXwMpNbAedU1WgQG/17Tf/5V3BVb9fy+ictRI9ak6uHwBsBf78Wjy1pATBgSZqYqjqZVuzikUwbfkQ7aZvqpZpya3ovV1X9taqeVVW3AvYAPpylVA5cDqcAt17CyeRfZmjPZVw9CC3JTN87RFGNU4CNl3DfgbQJ9etX1Y2B/6Cd1C6Xqrq8qr4MXE4LPcv625xACy3PB35UVefRAs3uwE+mhZLR3+PT00LvGlX1ttGmTGvXYVW1Fe0k//e0YZVz5S/A+rl6sY0rjwE9ZNJC1uHAT2g9KKM9eKcAFwNrj/zOa1bVaAnvq/3O3bq9h2j05870XHpL//47V9WatBA1+n1fBe7S5zY9GvjsEn7Xn/Z27jC6sQ+Z3Ab4HkBVnUsbMvkE2oWTg0aC4CnAHtP+vtevqv9d0u9aVR+oqnvQhgzejlZgYya/4erD72byF+CmU/OgutG/F7SLFVO/20q0ocfX5jV6LCM9okk2Aq4H/GFknzsyMoxQ0orFgCVp0p4BPKT3SFyp9+Z8AXhzkhv1oUQvoc/TSvL4JOv13c+lnZxNnbj/jTY36Nr4BW3Y09uSrJFk9ST36/d9DnhxWhGDG9JOYD+/hN6u6T4HvDbJOmnl6ffmmnPOro3PAg9LslOSVZL8W5K79vtuRLtqf1GSLWgnvcutFxzYnjbf7XfL+tt0h9N7vfrtH067Pd1ngG2TPCLJyv24bznyN57eppsn2T7JGrST/39y1d9/LvycFiJfkWTVtIIc29Ln61XV/9F6HXcDDu8h82+0OUqH931OpwWSdydZM62IysZJljWM82bAC/rPfTztZP3QGfa7Ee24/KPPcbtaQKmripccCPyillBhr6r+QRvS+sEkW/efuwHtOXAqV+/5OpA27G5HrhoeCC3cvypXFTu5cW/7jJLcs/fArkqbS3gRS/77Hsoyhr5W1SnA/wJv7c+tu9Dee0afs/dIskO/uPIi2vPqZ9d4sNa+VZOsTjuPWqU/5sr97s/SnssP6M/PfYEvT/We9e+7B/CdpbVZ0sJlwJI0UVV1YlUduYS7n087uTqJ1gNwIPDxft89gZ8n+Setl+aFVXVSv28f4JN9ONJOS3js++Sa62Dds4eHbWlFB/5MO4GcqkT4cdrJ5I9oPW8X9TbOxptoc4p+AxwD/LJvu076SfEjgZfShl0dzVVXz58L7JvkfFqg+8JyPvzX+vE9j1Zg4Skj85yW9reBFiJuRDtWM92e/nucQisy8GpaAYtTaIFgSZ9TK9FC3V9ov/eDgOcs5+93rVXVJbTnyTa0Hr0PA0+uqt+P7HY4bejnKSO3Q/vbT3kysBptjt25tMAzOixyJj8HNuk/983AjlU1UwGINwB3p83/+QbX7CWGNkzwzix5eCAAVfUO2t/mXbTnw89pf6OHVtXFI7se0tv21z6/ber7v0Ir835QH674W9qxW5I1aT2S59KG8p1NnwM4g68Bd8iy17HbhVa45i/AV4DXV9V3R+7/b9pr/VzafMId+nysmRxAC9C70ArYXNi/h/4aeTYtaJ1Be94/d+R7twV+WC4LIa2wcvVh3JIkab5KK8H/zKq6/0CPd2va8Mpb9F62BSnJ7sCmVfWia/n9+wC3rardlrXvdZXk58Azquq34/5ZkiZjYosWSpKkyenzjF5Cmyu1YMMVQFXtP+k2zFZV3WvSbZA0XmMdItjHah+ftqDfXjPc/94kR/d/f+iVhSRJ0hj1uUHn0crvv37CzZGkFcrYhgj2yZ5/oL15nwocAexSVcctYf/nA3erquUttSxJkiRJ88I4e7C2AE6otiDnJbTKStsvZf9duOaq7pIkSZK0YIxzDta6XH2BxFOBGccd9xK/GwLfX8L9u9PWT2GNNda4xx3usDxrSUqSJEnSsI466qizqmqd6dvnS5GLnYGDe3nka+iTV/cH2HzzzevII5dU0VmSJEmSxi/JyTNtH+cQwdMYWRWdtiL6aUvYd2ccHihJkiRpgRtnwDoC2CTJhklWo4WoQ6bvlOQOwE2An46xLZIkSZI0dmMLWFV1GbAncBjwO+ALVXVskn2TbDey6860NThc8ViSJEnSgjbWOVhVdShw6LRte0+7vc842yBJkiRJc2WsCw1LkiRJ0mJiwJIkSZKkgRiwJEmSJGkgBixJkiRJGogBS5IkSZIGYsCSJEmSpIEYsCRJkiRpIAYsSZIkSRqIAUuSJEmSBmLAkiRJkqSBGLAkSZIkaSAGLEmSJEkaiAFLkiRJkgZiwJIkSZKkgRiwJEmSJGkgBixJkiRJGogBS5IkSZIGssqkGyBJkiQBvO1XZ026CXNqr7utfa2/12M1f9mDJUmSJEkDMWBJkiRJ0kAMWJIkSZI0EAOWJEmSJA3EgCVJkiRJAzFgSZIkSdJADFiSJEmSNBDXwZIkSRoz1yySFg97sCRJkiRpIAYsSZIkSRqIAUuSJEmSBmLAkiRJkqSBGLAkSZIkaSAGLEmSJEkaiAFLkiRJkgZiwJIkSZKkgRiwJEmSJGkgBixJkiRJGogBS5IkSZIGYsCSJEmSpIEYsCRJkiRpIAYsSZIkSRqIAUuSJEmSBmLAkiRJkqSBGLAkSZIkaSAGLEmSJEkaiAFLkiRJkgZiwJIkSZKkgRiwJEmSJGkgBixJkiRJGogBS5IkSZIGYsCSJEmSpIEYsCRJkiRpIAYsSZIkSRqIAUuSJEmSBmLAkiRJkqSBGLAkSZIkaSAGLEmSJEkaiAFLkiRJkgZiwJIkSZKkgYw1YCXZOsnxSU5IstcS9tkpyXFJjk1y4DjbI0mSJEnjtMq4HjjJysB+wFbAqcARSQ6pquNG9tkEeBVwv6o6N8nNxtUeSZIkSRq3cfZgbQGcUFUnVdUlwEHA9tP2eRawX1WdC1BVZ4yxPZIkSZI0VuMMWOsCp4zcPrVvG3U74HZJ/ifJz5JsPdMDJdk9yZFJjjzzzDPH1FxJkiRJum4mXeRiFWATYEtgF+CAJGtN36mq9q+qzatq83XWWWduWyhJkiRJszTOgHUasP7I7fX6tlGnAodU1aVV9UfgD7TAJUmSJEkLzjgD1hHAJkk2TLIasDNwyLR9vkrrvSLJ2rQhgyeNsU2SJEmSNDZjC1hVdRmwJ3AY8DvgC1V1bJJ9k2zXdzsMODvJccAPgJdX1dnjapMkSZIkjdPYyrQDVNWhwKHTtu098nUBL+n/JEmSJGlBm3SRC0mSJElaYRiwJEmSJGkgBixJkiRJGogBS5IkSZIGYsCSJEmSpIGMtYqgJElacb3tV2dNuglzaq+7rT3pJkhaAOzBkiRJkqSBGLAkSZIkaSAGLEmSJEkaiAFLkiRJkgZiwJIkSZKkgRiwJEmSJGkgBixJkiRJGogBS5IkSZIGYsCSJEmSpIEYsCRJkiRpIAYsSZIkSRqIAUuSJEmSBmLAkiRJkqSBGLAkSZIkaSAGLEmSJEkaiAFLkiRJkgZiwJIkSZKkgRiwJEmSJGkgBixJkiRJGogBS5IkSZIGYsCSJEmSpIEYsCRJkiRpIAYsSZIkSRqIAUuSJEmSBmLAkiRJkqSBGLAkSZIkaSAGLEmSJEkaiAFLkiRJkgZiwJIkSZKkgRiwJEmSJGkgBixJkiRJGogBS5IkSZIGYsCSJEmSpIEYsCRJkiRpIAYsSZIkSRqIAUuSJEmSBmLAkiRJkqSBGLAkSZIkaSAGLEmSJEkaiAFLkiRJkgZiwJIkSZKkgRiwJEmSJGkgBixJkiRJGogBS5IkSZIGYsCSJEmSpIEYsCRJkiRpIAYsSZIkSRqIAUuSJEmSBmLAkiRJkqSBGLAkSZIkaSAGLEmSJEkaiAFLkiRJkgYy1oCVZOskxyc5IcleM9z/1CRnJjm6/3vmONsjSZIkSeO0yrgeOMnKwH7AVsCpwBFJDqmq46bt+vmq2nNc7ZAkSZKkuTLOHqwtgBOq6qSqugQ4CNh+jD9PkiRJkiZqbD1YwLrAKSO3TwXuNcN+j0vyQOAPwIur6pTpOyTZHdgd4Na3vvUYmqq58LZfnTXpJsypve629rX+Xo/V7HmsZm8xHSuP0+xdl2MlSbqmSRe5+BqwQVXdBfgO8MmZdqqq/atq86rafJ111pnTBkqSJEnSbI0zYJ0GrD9ye72+7UpVdXZVXdxvfgy4xxjbI0mSJEljNc6AdQSwSZINk6wG7AwcMrpDkluO3NwO+N0Y2yNJkiRJYzW2OVhVdVmSPYHDgJWBj1fVsUn2BY6sqkOAFyTZDrgMOAd46rjaI0mSJEnjNs4iF1TVocCh07btPfL1q4BXjbMNkiRJkjRXJl3kQpIkSZJWGAYsSZIkSRqIAUuSJEmSBmLAkiRJkqSBGLAkSZIkaSAGLEmSJEkaiAFLkiRJkgZiwJIkSZKkgRiwJEmSJGkgBixJkiRJGogBS5IkSZIGYsCSJEmSpIEYsCRJkiRpIAYsSZIkSRqIAUuSJEmSBmLAkiRJkqSBGLAkSZIkaSAGLEmSJEkaiAFLkiRJkgZiwJIkSZKkgRiwJEmSJGkgBixJkiRJGogBS5IkSZIGYsCSJEmSpIEYsCRJkiRpIAYsSZIkSRqIAUuSJEmSBmLAkiRJkqSBGLAkSZIkaSAGLEmSJEkaiAFLkiRJkgZiwJIkSZKkgRiwJEmSJGkgBixJkiRJGogBS5IkSZIGYsCSJEmSpIEYsCRJkiRpIAYsSZIkSRqIAUuSJEmSBmLAkiRJkqSBGLAkSZIkaSCrLOmOJDdd2jdW1TnDN0eSJEmSFq4lBizgKKCAzHBfARuNpUWSJEmStEAtMWBV1YZz2RBJkiRJWuiWNkTw7kv7xqr65fDNkSRJkqSFa2lDBN+9lPsKeMjAbZEkSZKkBW1pQwQfPJcNkSRJkqSFbmk9WFdKcidgU2D1qW1V9alxNUqSJEmSFqJlBqwkrwe2pAWsQ4FtgJ8ABixJkiRJGjGbhYZ3BB4K/LWqngZsBtx4rK2SJEmSpAVoNgHrwqq6ArgsyZrAGcD6422WJEmSJC08s5mDdWSStYADaIsP/xP46TgbJUmSJEkL0TIDVlU9t3/5H0m+BaxZVb8Zb7MkSZIkaeFZ6hDBJKskSf96fWBzYOW5aJgkSZIkLTRLDFhJnkWbb3Vy//p7tIIXByV55Ry1T5IkSZIWjKUNEXwRsDFwI+B3wG2q6qwkNwCOAN4+/uZJkiRJ0sKxtIB1SVWdC5yb5ISqOgugqi5IcsncNE+SJEmSFo6lzcG6fpK7JbkHsFr/+u799uqzefAkWyc5PskJSfZayn6PS1JJNl/O9kuSJEnSvLG0HqzTgff0r/868vXU7aVKsjKwH7AVcCpwRJJDquq4afvdCHgh8PPlaLckSZIkzTtLDFhV9eDr+NhbACdU1UkASQ4CtgeOm7bfG2nzuV5+HX+eJEmSJE3UUsu0X0frAqeM3D61b7tSkrsD61fVN8bYDkmSJEmaE+MMWEuVZCXasMOXzmLf3ZMcmeTIM888c/yNkyRJkqRrYVkLDacvMHxtnAaMfu96fduUGwF3An6Y5E/AvYFDZip0UVX7V9XmVbX5Ouuscy2bI0mSJEnjtdSAVVUFHHotH/sIYJMkGyZZDdgZOGTksf9RVWtX1QZVtQHwM2C7qjryWv48SZIkSZqo2QwR/GWSey7vA1fVZcCewGG0hYq/UFXHJtk3yXbL+3iSJEmSNN8trUz7lHsBuyY5GfgXEFrn1l2W9Y1VdSjTesCqau8l7LvlLNoiSZIkSfPWbALWI8beCkmSJElaASxziGBVnUwrVvGQ/vUFs/k+SZIkSVpslhmUkrweeCXwqr5pVeAz42yUJEmSJC1Es+mJeiywHW3+FVX1F1qJdUmSJEnSiNkErEt6ufYCSLLGeJskSZIkSQvTbALWF5J8FFgrybOA7wIHjLdZkiRJkrTwLLOKYFW9K8lWwHnA7YC9q+o7Y2+ZJEmSJC0wsynTDnAMcH3aMMFjxtccSZIkSVq4ZlNF8JnAL4AdgB2BnyV5+rgbJkmSJEkLzWx6sF4O3K2qzgZI8m/A/wIfH2fDJEmSJGmhmU2Ri7OB80dun9+3SZIkSZJGzKYH6wTg50n+mzYHa3vgN0leAlBV7xlj+yRJkiRpwZhNwDqx/5vy3/1/FxuWJEmSpBGzKdP+hrloiCRJkiQtdLOZgyVJkiRJmgUDliRJkiQNxIAlSZIkSQOZzULD70iyZpJVk3wvyZlJdpuLxkmSJEnSQjKbHqyHV9V5wKOBPwG3pS0+LEmSJEkaMZuANVVp8FHAF6vqH2NsjyRJkiQtWLNZB+vrSX4PXAg8J8k6wEXjbZYkSZIkLTzL7MGqqr2A+wKbV9WlwL+A7cfdMEmSJElaaGbTgwVwB2CDJKP7f2oM7ZEkSZKkBWuZASvJp4GNgaOBy/vmwoAlSZIkSVczmx6szYFNq6rG3RhJkiRJWshmU0Xwt8Atxt0QSZIkSVroZtODtTZwXJJfABdPbayq7cbWKkmSJElagGYTsPYZdyMkSZIkaUWwzIBVVYfPRUMkSZIkaaGbTRXB82lVAwFWA1YF/lVVa46zYZIkSZK00MymB+tGU18nCW2R4XuPs1GSJEmStBDNporglar5KvCI8TRHkiRJkhau2QwR3GHk5kq0dbEuGluLJEmSJGmBmk0VwW1Hvr4M+BNgiXZJkiRJmmY2c7CeNno7yU2A5wJvHlejJEmSJGkhWuIcrCTrJ9k/ydeTPCPJGkneDRwP3GzumihJkiRJC8PSerA+BRwOfAnYGjgSOBq4S1X9dfxNkyRJkqSFZWkB66ZVtU//+rAkjwd2raorxt8sSZIkSVp4ljoHq8+3Sr95NnDjvhYWVXXOmNsmSZIkSQvK0gLWjYGjuCpgAfyy/1/ARuNq1ELztl+dNekmzJm97rb2pJsgSZIkzVtLDFhVtcEctkOSJEmSFrwlVhGUJEmSJC0fA5YkSZIkDcSAJUmSJEkDmVXASnL/JE/rX6+TZMPxNkuSJEmSFp5lBqwkrwdeCbyqb1oV+Mw4GyVJkiRJC9FserAeC2wH/Augqv4C3GicjZIkSZKkhWg2AeuSqira2lckWWO8TZIkSZKkhWk2AesLST4KrJXkWcB3gQPG2yxJkiRJWniWuNDwlKp6V5KtgPOA2wN7V9V3xt4ySZIkSVpglhmwAHqgMlRJkiRJ0lIsM2AlOZ8+/2rEP4AjgZdW1UnjaJgkSZIkLTSz6cF6H3AqcCAQYGdgY+CXwMeBLcfUNkmSJElaUGZT5GK7qvpoVZ1fVedV1f7AI6rq88BNxtw+SZIkSVowZhOwLkiyU5KV+r+dgIv6fdOHDkqSJEnSojWbgLUr8CTgDOBv/evdklwf2HOMbZMkSZKkBWU2ZdpPArZdwt0/GbY5kiRJkrRwzaaK4OrAM4B/B1af2l5VTx9juyRJkiRpwZnNEMFPA7cAHgEcDqwHnD+bB0+ydZLjk5yQZK8Z7n92kmOSHJ3kJ0k2XZ7GS5IkSdJ8MpuAdduqeh3wr6r6JPAo4F7L+qYkKwP7AdsAmwK7zBCgDqyqO1fVXYF3AO9ZnsZLkiRJ0nwym4B1af//70nuBNwYuNksvm8L4ISqOqmqLgEOArYf3aGqzhu5uQZWJZQkSZK0gM1moeH9k9wEeC1wCHBD4HWz+L51gVNGbp/KDD1fSZ4HvARYDXjITA+UZHdgd4Bb3/rWs/jRkiRJkjT3ltqDlWQl4LyqOreqflRVG1XVzarqo0M1oKr2q6qNgVfSQtxM++xfVZtX1ebrrLPOUD9akiRJkga11IBVVVcAr7iWj30asP7I7fX6tiU5CHjMtfxZkiRJkjRxs5mD9d0kL0uyfpKbTv2bxfcdAWySZMMkqwE704YYXinJJiM3HwX836xbLkmSJEnzzGzmYD2h//+8kW0FbLS0b6qqy5LsCRwGrAx8vKqOTbIvcGRVHQLsmeRhtEIa5wJPWd5fQJIkSZLmi2UGrKra8No+eFUdChw6bdveI1+/8No+tiRJkiTNN8scIpjkBklem2T/fnuTJI8ef9MkSZIkaWGZzRys/wIuAe7bb58GvGlsLZIkSZKkBWo2AWvjqnoHfcHhqroAyFhbJUmSJEkL0GwC1iVJrk8rbEGSjYGLx9oqSZIkSVqAZlNFcB/gW8D6ST4L3A946hjbJEmSJEkL0myqCH47yVHAvWlDA19YVWeNvWWSJEmStMAsM2Al+RpwIHBIVf1r/E2SJEmSpIVpNnOw3gU8ADguycFJdkyy+pjbJUmSJEkLzmyGCB4OHJ5kZeAhwLOAjwNrjrltkiRJkrSgzKbIBb2K4LbAE4C7A58cZ6MkSZIkaSGazRysLwBb0CoJfgg4vKquGHfDJEmSJGmhmU0P1n8Cu1TV5QBJ7p9kl6p63nibJkmSJEkLy2zmYB2W5G5JdgF2Av4IfHnsLZMkSZKkBWaJASvJ7YBd+r+zgM8DqaoHz1HbJEmSJGlBWVoP1u+BHwOPrqoTAJK8eE5aJUmSJEkL0NLWwdoBOB34QZIDkjwUyNw0S5IkSZIWniUGrKr6alXtDNwB+AHwIuBmST6S5OFz1D5JkiRJWjCW1oMFQFX9q6oOrKptgfWAXwGvHHvLJEmSJGmBWWbAGlVV51bV/lX10HE1SJIkSZIWquUKWJIkSZKkJTNgSZIkSdJADFiSJEmSNBADliRJkiQNxIAlSZIkSQMxYEmSJEnSQAxYkiRJkjQQA5YkSZIkDcSAJUmSJEkDMWBJkiRJ0kAMWJIkSZI0EAOWJEmSJA3EgCVJkiRJAzFgSZIkSdJADFiSJEmSNBADliRJkiQNxIAlSZIkSQMxYEmSJEnSQAxYkiRJkjQQA5YkSZIkDcSAJUmSJEkDMWBJkiRJ0kAMWJIkSZI0EAOWJEmSJA3EgCVJkiRJAzFgSZIkSdJADFiSJEmSNBADliRJkiQNxIAlSZIkSQMxYEmSJEnSQAxYkiRJkjQQA5YkSZIkDcSAJUmSJEkDMWBJkiRJ0kAMWJIkSZI0EAOWJEmSJA3EgCVJkiRJAzFgSZIkSdJADFiSJEmSNJCxBqwkWyc5PskJSfaa4f6XJDkuyW+SfC/JbcbZHkmSJEkap7EFrCQrA/sB2wCbArsk2XTabr8CNq+quwAHA+8YV3skSZIkadzG2YO1BXBCVZ1UVZcABwHbj+5QVT+oqgv6zZ8B642xPZIkSZI0VuMMWOsCp4zcPrVvW5JnAN+c6Y4kuyc5MsmRZ5555oBNlCRJkqThzIsiF0l2AzYH3jnT/VW1f1VtXlWbr7POOnPbOEmSJEmapVXG+NinAeuP3F6vb7uaJA8DXgM8qKouHmN7JEmSJGmsxtmDdQSwSZINk6wG7AwcMrpDkrsBHwW2q6ozxtgWSZIkSRq7sQWsqroM2BM4DPgd8IWqOjbJvkm267u9E7gh8MUkRyc5ZAkPJ0mSJEnz3jiHCFJVhwKHTtu298jXDxvnz5ckSZKkuTQvilxIkiRJ0orAgCVJkiRJAzFgSZIkSdJADFiSJEmSNBADliRJkiQNxIAlSZIkSQMxYEmSJEnSQAxYkiRJkjQQA5YkSZIkDcSAJUmSJEkDMWBJkiRJ0kAMWJIkSZI0EAOWJEmSJA3EgCVJkiRJAzFgSZIkSdJADFiSJEmSNBADliRJkiQNxIAlSZIkSQMxYEmSJEnSQAxYkiRJkjQQA5YkSZIkDcSAJUmSJEkDMWBJkiRJ0kAMWJIkSZI0EAOWJEmSJA3EgCVJkiRJAzFgSZIkSdJADFiSJEmSNBADliRJkiQNxIAlSZIkSQMxYEmSJEnSQAxYkiRJkjQQA5YkSZIkDcSAJUmSJEkDMWBJkiRJ0kAMWJIkSZI0EAOWJEmSJA3EgCVJkiRJAzFgSZIkSdJADFiSJEmSNBADliRJkiQNxIAlSZIkSQMxYEmSJEnSQAxYkiRJkjQQA5YkSZIkDcSAJUmSJEkDMWBJkiRJ0kAMWJIkSZI0EAOWJEmSJA3EgCVJkiRJAzFgSZIkSdJADFiSJEmSNBADliRJkiQNxIAlSZIkSQMxYEmSJEnSQAxYkiRJkjQQA5YkSZIkDcSAJUmSJEkDGWvASrJ1kuOTnJBkrxnuf2CSXya5LMmO42yLJEmSJI3b2AJWkpWB/YBtgE2BXZJsOm23PwNPBQ4cVzskSZIkaa6sMsbH3gI4oapOAkhyELA9cNzUDlX1p37fFWNshyRJkiTNiXEOEVwXOGXk9ql923JLsnuSI5MceeaZZw7SOEmSJEka2oIoclFV+1fV5lW1+TrrrDPp5kiSJEnSjMYZsE4D1h+5vV7fJkmSJEkrpHEGrCOATZJsmGQ1YGfgkDH+PEmSJEmaqLEFrKq6DNgTOAz4HfCFqjo2yb5JtgNIcs8kpwKPBz6a5NhxtUeSJEmSxm2cVQSpqkOBQ6dt23vk6yNoQwclSZIkacFbEEUuJEmSJGkhMGBJkiRJ0kAMWJIkSZI0EAOWJEmSJA3EgCVJkiRJAzFgSZIkSdJADFiSJEmSNBADliRJkiQNxIAlSZIkSQMxYEmSJEnSQAxYkiRJkjQQA5YkSZIkDcSAJUmSJEkDMWBJkiRJ0kAMWJIkSZI0EAOWJEmSJA3EgCVJkiRJAzFgSZIkSdJADFiSJEmSNBADliRJkiQNxIAlSZIkSQMxYEmSJEnSQAxYkiRJkjQQA5YkSZIkDcSAJUmSJEkDMWBJkiRJ0kAMWJIkSZI0EAOWJEmSJA3EgCVJkiRJAzFgSZIkSdJADFiSJEmSNBADliRJkiQNxIAlSZIkSQMxYEmSJEnSQAxYkiRJkjQQA5YkSZIkDcSAJUmSJEkDMWBJkiRJ0kAMWJIkSZI0EAOWJEmSJA3EgCVJkiRJAzFgSZIkSdJADFiSJEmSNBADliRJkiQNxIAlSZIkSQMxYEmSJEnSQAxYkiRJkjQQA5YkSZIkDcSAJUmSJEkDMWBJkiRJ0kAMWJIkSZI0EAOWJEmSJA3EgCVJkiRJAzFgSZIkSdJADFiSJEmSNBADliRJkiQNxIAlSZIkSQMZa8BKsnWS45OckGSvGe6/XpLP9/t/nmSDcbZHkiRJksZpbAErycrAfsA2wKbALkk2nbbbM4Bzq+q2wHuBt4+rPZIkSZI0buPswdoCOKGqTqqqS4CDgO2n7bM98Mn+9cHAQ5NkjG2SJEmSpLEZZ8BaFzhl5PapfduM+1TVZcA/gH8bY5skSZIkaWxSVeN54GRHYOuqema//STgXlW158g+v+37nNpvn9j3OWvaY+0O7N5v3h44fiyNXnjWBs5a5l7yOM2ex2r2PFaz43GaPY/V7HmsZs9jNTsep9nzWF3lNlW1zvSNq4zxB54GrD9ye72+baZ9Tk2yCnBj4OzpD1RV+wP7j6mdC1aSI6tq80m3Y77zOM2ex2r2PFaz43GaPY/V7HmsZs9jNTsep9nzWC3bOIcIHgFskmTDJKsBOwOHTNvnEOAp/esdge/XuLrUJEmSJGnMxtaDVVWXJdkTOAxYGfh4VR2bZF/gyKo6BPhP4NNJTgDOoYUwSZIkSVqQxjlEkKo6FDh02ra9R76+CHj8ONuwgnPY5Ox4nGbPYzV7HqvZ8TjNnsdq9jxWs+exmh2P0+x5rJZhbEUuJEmSJGmxGeccLEmSJElaVAxYi1iv3Khpktxs0m2QJEnSwmTAWqSS3AN4VZKbTrot80mSWwGvSXKDSbdFWmySZNJtkKTZGn3P8v1LowxYi9e5wMOApyb5t0k3Zh75B/AaYLMkO026MfNdki2S3H3S7Zgvkqw08vU6o72hfvjOyr/B1Y+jls3jNbPpx8XjdN34HnZNVVVJtktyX5cZWrqp50+SzZLcZdLtGTffbBaZdFV1EvBZ4GnAa5PccMJNm6ipF35V/Qu4CLgjsHuS7SbasHksyWbAh4DzJt2W+SDJLYBH9K+3Ab4DfDHJq+HKD2JPUJagH7MvJnk97bW36qTbtFBU1RUASe6V5JZJ1ppwkyZqagRCVV2R5B5JHpPkhlPHScs2cjK8YZLbQ3sPm2yr5p8kWwCvAHy/Wop+3llJHg58C7jnpNs0bs7BWWSm3iCTPB/YBjgAeDHw9yTvr6q/T7B5EzH1wu9f3wC4uKo+nuRiYI9+/39PtpXzSx9i+nLgkKo6YdLtmSceCWyTZG3awum708LnD/tz6M1TIcsTlatL8iDgHcAuwMuAhwPrJdm3qi6ZaOPmsWnvXXsArwO+B5zd389PnmgDJ6APe39Bku/R1uD8BHA08M4k21XV7ybYvAWjv1c9Gngb8Jse2nepqn9MtmXzR5KbA28BTqqqw0cu1Pr+Pk1/Pj0CeCPw37SL2KzIn4f2YC0yvQNrLWA74M1V9QHgwbThgvskufEk2zfXpp2gvBT4Im3x67tV1WeBg4CnO1zwGs4Hbg7cebEPMR35UP04bWH17YFLgeOq6vfA/YHn9EXW/fAd0d+PVgM2Ap4I3Aq4M/ABYDPgdUmuN8Emzmsj7107AOsBW9CO3T+AVye5zQSbNymrA9cDHkW7yLFjVT0GOBA4IMmmE2zbgpHkXrRwtTXthPihwGcX+/v9NP8CvgQ8MMljq3OkwjUlWR94Ke3C7AeAW8OVwev6k2zbuBiwFoHRF3t//f8d+B2wUZI1qupPwKuB5wO7Jll5Ig2dgJETlPvRPkjeCPwc+HySe1TVp4GvA49bzMMoR4aLbNE/eK8AdgBuDDxjsQXzmSS5LfCfwFdoJ3kPS3KT3sP3EOB5STZ2HsjVrFRVl1TVfwEnAs8Cdq6qzwOXAZsAizEkzEoPqDegLfq5dVX9paqOop0Q/wV4Sz+xWRSSrFRVfwHeB/wTuC1wD4Cqej3wbeDAJHeaWCPnsZH3+ZsCJwG7ApvSRrncCrg+8I0s0kq7I8fn7kk2B25eVR8BXg88c2pKgRfRmpHjtXJVnQJsX1WHA3+nnUNMnXu9bEU8v/KDfgU3rYdm8yT37VcLjgG2BP6977oG7UrMN6rq8ok0dkL6mOA3AYdV1c+q6v3Ae4DPJLl3VR0APKuq/jnRhk7IyNjpRwP/AdybdgJ3W+CFtOfRCxfrvI9+bB5Jm9N4597z+U1aL/EDesj6A7B+VZ3oPJBm6pgl2SfJjlV1Ab0Xpp8A3xR4Qz926qZdHV+5H7e7ArdK8haAqjoa+AbwW1pv6qLQ51xtDtwJeDvtfep2Sbbq9+8LHALcaHKtnJ9G3ue3pAX2i6rq17TRLZ+vqrOBT9Muqi3KgNWPzza03tAtgR/10S6fBD4HvCTJYyfZxvlkqgAIref4QNqIl9CG7q6UZEfaOcURK+L5VQzai0OSFwDPBE4A1gZeQhvKtBFwE2B92lCK4yfWyDkyfcxv7335EO3q3J5V9de+/UXAk4H7VNXFk2jrJOWq+WiX92EhX6AN49qGNvTmcVV1epJNgI8Ae1TViZNr8WT03/+rwDOq6mcj259D+xA+CPgacIXhqklyR+D9wJf7pt2BfYHTaR+4FwLvraovTqaF89O0C2a70XoVjq+q/05bYuJnwGeq6tV9n+sthveukXCwOa0X9J7Ai4AjaMOS1gR+WFWHTq6V81+SrWnDt9YF7ltVv07ydNr72NHAtsDLq+rIiTVygvr71ueAx9GGMu9HuxD0kKr6aZKn0IaGHzHBZs4bSR4AvIs22uWTtCGVT6D1Xh1Gu6D2/Kr61sQaOUYGrEWgvykcADymqs7qc43uAzyPNgxnA+CM3oW7Qpt2gvJo2pWU04GjgP+idV2/rQ8zIclatTgLf6xNC+T/UVV/772e76WdsDyVFib+0K9O/RC4tKounFR7JynJvYFXVdX2/faVJ7VJngb8sl8JFpBWnvf7tDmg7+3b7k2bLL4D7TVJVZ09/WKImiTPBXajFQb5JPCmqnpnWiXLE4F3VNUbJtnGudZ7Fj5Ae5+6C22Ox3uBn9CGwN+Q9pw7a2KNnMeS3J92/J4EPAb4VlUd1S8gPQTYCvhUVR0yuVbOvWnnDCsDt6MtJ/GBqrp7WtXT1wP3MlhdXb/IeBotUL2aViTl5H7fK4HfrcjPJ4cIroBmmGD51/7vVgBV9W7aJOiXV9XZVXXUYghXcLU5Vy8A9qYV+NgXeAOtZP2awL79RIXFGK66s4HPAzdI8uAenkL7AN6th6v7A/sA6y2mcDUyrnyqCusfgNWTbAtQVRcn2SrJXlX1X4arq6uq39CC+gtGtv2MNmdo3f6edHbfbrga0edc3R54NK1q5S2B42nVK/ftve8b0YYwLTabA6+tqg/T3ts/S1vT8G60IPohw9VSrQI8u6qOpV10vU/ffjktpD6+qg6Z4fxihdZ7Ru+d5D1VdXm1KpR3pg0Dh3Zx9ju0oZOL2gzPjXOBPWhl7HerqpOTPCnJ+6rq7Sv688mAtYKZdrXl35LcsqrOpfXMbN6HkUA7wTl3Qs2cmH6CshZtqMOOVfUi2rC3zWlXhJ9PW89i0Z7YpU0Ur6r6I/Bs2uTd+9HmNHwK+Hhamf/9gH2q6rgJNnfO9Q/ch9OC+J5VdQ5tCOADk7wpyUNpk+x/Ncl2zjdp6xFtD1BV2wDHJTkiyW3Tyv4/EFhtoo2ch0ZPQPrr8nhaL/LmwE5VtQXttfnKJM+sqr9V1f9NprVzZ4YTsxvQjgtVdQatWNHFtLL/myzG4ctLM3Kh6M5JNqANNf1Fv/tU2tIttwMOBlafOq9YLBc9Ro7P/WlDAndN8o5+92nAhkn2ob32XlFV312Rw8KyjAzTfXCSJyR5HO1zcU1aAP1XP494Zb8NrNjPJwPWCmYkXL2UNmfmO/1k+Mu0q55vTPJR4Lm0CcArvGlvetcHLqCV8b0xQD9B/iTtQ/h84GlV9bc5b+g80N8kr8hVBSteT7tC92RaNbcX055L5wIvXNGvQI3qw0NIch/a0KM/06of7UU7Jt+iHaMdgL2q6rBJtXW+6aHz08DLk3wiyZ2r6lG0XqujaRc5dqoqQ+mIJDceeU/fMn0CfQ8QU+9l0C4KfY32HFwU+sncPdMWEb4+bYjpKUne33dZg1ZJ8EzasC6N6MfvkbQ5orsCBye5c7/757Qe5s/RCs0cNaFmTkw/PvenjeT4Hm0u312TvKsPa/tv2gWhvaZGKazIYWFZ+vGamsN3Pm3Jm0cAz6EVnXkvbcTLXlX1jcVw3uAcrBVQkofRquI9gjaE5O20D94v0cambwx8dzFc0ZvWo/cUYI2q+nAfN70D8OiqOqUPGbwPLUhcXou4GEHa3LTXAr8GTquqfXtg34Q29Oh/ahFVmuy9vudX1fl9eNZetGPwsSTr0S5kfLOq3tj3X7WqLh197i1mSValXdD5UVX9KsnbafNh/qOqjknySeCOvSdmhV54cnmkzX15KvAZ4L60npgz+t070k7u3kybKH5L4LG1CCoujlwp35JWEOUMWvGmz9N6FvYB1qEdk+1p1TxvWFWvm0R756sk/04LV9vT5li9st+1E60Ywa9oZbW/u1hfk/2z8B5V9YZ+ge3WtAsZn596v+/7LcrjM6ofnwNp0y2mzjt3qKo/pw2nvwJYp6r+tliOlz1YK6aLgROr6h/VFjp9Ie2k8C5V9d2q+uhiCFdwtR6959GuyH23b38DrajFT5K8jzZOeN+qunSRh6u70E7e3kx7s7xTko9Wm7f3N9owykUz1jxtbY6H0RdFpFWMWgd4SJINqupU2vCRxyV5J0BVXdr/X+E/QJYlyWNoJyRPppX3h7bW3HnAi9NKHD8FuDTJN8HjNuL6tGFvu9Iqd25eVQ+iFbHYnzY35uW0K8Pbrejhqgf1qSvld6UFzkdV1QOBPwEPB9auqh1p71P3p5UTfxptPtai1ofH37R/fSvaCe/jaBWEn0cbcvp1Whn7i4DbLrZwNUOvyhXA05OsW23+1R9pw9semeSFUzstluOzJH2EwgOA39AC+uuBXXu4ejKwZT+vOgMWz/EyYK1A+tjXbYGzgFX72OrrV1tI+HOTbd3kpBWseCytx+q0JE9M8kFaF/+2tCufj642eXVRSrJS/9A9gra2zteAHwPPAG7ex06/AXhXH1K5wktbi+lA4FDg7CSfoPXq7Q2cAzwmya2r6nRawYEvL+mxFqO06qXPo83V+ziwZ5Ltqq138ibaMbwCoKruRyvVvuhNneRVKwbycVrxgY1ogYGqejrt2B3YbtY3VvQLZmnLRBzahwJCG22wJW1EBsC7acdktyQPr1a0aQ3g8bS5tr+f4ybPR3cDnpZkT1rvwrk9lN8TOKCq/gEcSxsSvmF/X1tUenh/aNpc2gdVK+v/AeBb/XzqQcAdaKMW1ppkW+eLtPmzb6IVUrsCeBXw5Ko6PsndaBeBLoDFE6ymrLLsXTRfzXBlaX1aUYIH0tZD2Qs4JskltCtVB8x9Kyevqv6a5BfAt2ljy8+jjc1/A/D0qrpsku2bD/rVpb8keTHwviTvr7bWyflJTqdVCryCVjFvhZfkerQKZF+hVU+8LW3YzHtp6+scSFvP44lJDqyqP9PmEwlIshHt9fW3HtZJciawTx9C+aUkr6g232+VqrqsFkkl06WZGl7av34Wrdf4v2il6++T5O9V9fOqekaSqbX7VnjVSvY/E9ggySVV9ZEkNwKeleScqjo8yXtpJ3On9u/5Y5JXVtW/Jtn2eeQUWph6MG0ezF+TrER7bt0zybNpF0R2qarfTp1fLIaT4pFhp5vTKk4eBTwjbb7tf9CWs3kXrUf5ObQqgvdPshptiZIV/hjNJMnGtMJgv+0XMd7aL6x9KslxtOfba6vqfyfZzkmxB2sBGxn+9sQkO1TVp2hd/PtX1XtoJ4dFm+C77Yp+lXMmuaqU9ptpV1leWVV70npqFvXzf+pKeZLNkmyd5CbVShy/iDZ08plJ7ksbevPXCTZ1Uk4B7kWbrHsW7YP3QuCDwC9p1bVuTV+3SVepqpOAI4GbJHlY2tpgX6D1NLwpyc1owRUvcDR9ztUnk9y8b1oP+Hu1qoGfoRXmeWTaxHuqas/FEEr73A6qrZ+zA6365EZV9Q5a7/JLkjy0qi4A3lhVx/XggOHqasPeNqYtIPx14A5JNusXzd5He6/bBNi7qn4Li6u3oYeru9EWP9+zqnanzU9bmzZ9YP+qegTts3Ad2jy/vavqksV0nGZwOa2IzEZpc/+pqifTzrU+CTyr2iLoK3xBi5lY5GIBGrnaslK/AvxjYEPakK7306oFfqeqDu/7r1yLoChBHwp4SVWdk+TBwOEzzadKW/zumcBTq+qYuW7nfJLkUbST3m/SFpJ8flX9oF89/yhtaOnrq+qExTQWHyDJ42lzXQ6uqmf1bRvTCjbcHHgWcL1avGulXUPagsE3pc0BPT7Jy2gXeA4CflJVlyS5RbX1mjSi9/q9gHb8Xtz/HV1VB/f770i7en46rSf14hX99TjyWXdv4IyqOiltgdIXA/erqhPTCvBsRatE+feZ3vMXuyRb0C4QPZvWE/802vy0t9DmW90bOKyqLl9s7/NT0ioofh/4clXt0bc9glYk5W+043cD2hyjwxfjlIKR1+N9aIWKzqXNu3otrejON6fOO7XIr+AvRNPe/Dbt/+9G674+CXgdbbLhS0a+bbF84GwM/DDJvrSKSP82fYd+5Xxt4CmGq9yJNhl1K+Aw2gfuXn0OwwG059XDgdUn18qJ+iOtOMMtk+yV5Ea9F/gjtA+W2xqurpJkO+DDwP2Atyd5clW9izav4+nAg/r7l+FqBr3X7320APVu4Ba0HsDbJ1m373Yg8LGqumgxnAT3k7ltaBd61u3b3g68B/hRkttVK8CzR1WdY7i6piS3BfYE/q+qft97Pb9GKzjwMeC3tCqpl8Pi6bkaGcGxZtpyCMfQPgvvnuR1ANWW2vg68IX+mjuH9vpbzOHqQbSK1I+gFUTZjTaq40JghyQPnGAz5xV7sBaQ0XCVVj70/bS1ZU6izb/6Jm0o0860K6H3qEWwnlPaJMt/9ivmB9ImNm9VVT/sQ5Munrb/oujRm420qoE3pl0R35I27+hptEmq307yEtoY6zuyAl8xT3Ib4B8zBaYeRN9LC6H/UVX/TCsec+EcN3Pe6idxHwGeRAvlr6AVBPlBtXL2L6NdIV/UFzVmo/dkPYtW9OMsWuXTjWhDk7apqjMn2Lw5lbYA7tdpow2O7L0Mq1bVL3tP1ito80N9Lc4gyU2AS2lD2u4GvKmqftDvuyWtd/nyqvrJxBo5ASNhYXvaiISVgE9V1af7Z+J+tGUlXjP9eybU5Hmhn2s9GfhWVX2zfzZ+hfb8OpS2Vtin+7DmRc+AtQAleRJtouq7aNWU1qOFivNpV/J+k+QGfUz6Cq8P+fsa7fd/BG1Ru92Bh1bVsZNs23wy8qGyLnD9qjqhb98D2Kyqnpu2tswbaePQf93vX2tF76lJ8ipaEZSjR4fJjAzDvSPtau/XgHd4pfwqSW5ebW2TOwNrAh8CdqENVX4K8NGq+tAk27gQTLuAtiGtPPudaL3tFydZvaoummgj51iStWmjEf5OC5h3oy1D8qmq+kyS2069j+nq+pD5L9Lmw/yQdvFsNeAbVfXjCTZtXkjycOCttErCL6ENv31FVe3X52PtT3sfO3GxB6spSd5Fq8j8dlqQujDJQ4CXVdUjk6xRznu8kkMEF5i09Qa2AQ6qquNo63u8j1Zq/M60Usir0bprV2gjE5k/QpsA/gXam+HetCEkP0iydpJH96udi1oPDNvSFp3++tQwCNqCkrdLq0r2PuA1VfXr9MnlwD/mvrVzq6reSivk8eMkN+vHKj1crdSHhOwOfN9wdZV+knJ6kvv33qlbA5+pVlHqT8BPgB9NsInz0tTwpFH9OTdV0OGPtOGA5wAfTCvWc8nctnJe+DutAMMtaBdAHgJ8A7h7v/+Pk2nWgvAPWkh4BW2h6nfSzgse7zAuoI3ceA5t/a970nrf35DkZVX1K+AhVXWC4eoqVfUy2rnmg2mVdaFNQble2hIKi+Ki/mxZpn2eG7mSPnV1c1PacJH7JPlF71m4CHhjkmOBX1TVovggnjrRTasg9b0kvwRel+QNVfWOfrLyI9qL/imTbOt8kOQOtIpIO9JO1r6QVsL/w7Req0fSqiz+CGCxjcmvqtOSnEg7Lo+vqjOnhSx7Q0ekFUh5FW3hzTX65vOAT6ctCvtcWu/LbybUxHkpyVr0ixZJnkabLH5OVX22956uXG1R05OSvB24sBZhpcX08v20dYimtt0TeCqtV+vK9yhdpfe+HNt7Fw6mvdfvQ3utvp+2QPMZk2vhZE1NG6iqLya5AfBqWkXAw/t72nPSlt5w2Y0R6UtIVNWrk7wf+HA/59wY+JDDdK/JIYLz2LQhIxtVmwRNkidw1cKm36u2cOeikVbJ7frV1upYjzYE6VH9vjfQrm6+rqqOTnI72oKKi2bewkzSSj+/njbEZvuqOqMfm0/Rhoy8cWTfRTHWfOTixcbAjavql337fsBdacfprMVyPJZHktvTxt7vSus5v3tVvajf93Da8ftVVX1nUm2cj/qcoo/QihFtQFs+4sO0q+eH9t730XCxqKStbXX51PD2qSG6/et70Ia5fbKq/nuCzZyXpoJ5kq/R1kd7VB9augYtYG1Nu+jxv4spmPZhphtW1RE9QD2eVrjpbbR1HV9FW+fql/SCYVV1xKTaO5/0z8YbjkwXuPJ9KcmbaVNU3lJV351gM+cthwjOYyPhak/gP5O8Pcmzq+rztInPjwG26W+gi0KS1WkLKO+WNrH+X8C/+psoVfV62pC3DyS5S1X9YbGHK4BqxU4OoxVE2TmtVPYfaFeDd0hbg2dq30URJkaGTH4JeE2SLyRZr6qeBxwNfCXJ2qNDt3Sls4Ht+lCaS4FVAZI8gFZw5h2Gq2uqqj/RFoHfl7Yg/G5V9X7aotXbJdmn77cowlWSdXuPC/21+G3gS/3kjd57PDWc8lfAC2oRr6szk5FjcWOAqtqWVlb8i7235l+0gjM/Ay5bZOFqVVrBmF2T7EYbqfFp2qLwz6OFzl8Da9EC12cNV+3CRpIb0uam7ZQ2v5aquqwPV6ZaAZBfAc/vF2s1jQFrnkuyK+3Dd0fa8MBdk+xTVZ8Gfkobk75oPmyqTfJ+K20y/a7AFrThDheM7LM3bZzwuZNo43ySqxZapl/1/TJtiOnjktyyz5W5X1X936TaOClpa+vsTat692VagZQ3J7l1D1m/Br7fr6IvmpOS2aiqs+qq4gLHAecmuSvwn8ywPMJilw6gqt4AfJW2nMZmSVarVv7/ccBTk7xmyY+0wtkZeE/vWdiDdvHspbQLh2+HKy+ErFRVV1TVqVPbJtbieaYfn22Aw5K8O8m9qmpXWtGng5O8mNZj+tGq+ulEGzvHqupSWinxvwMPBf6nqr5XVS8BjqDNqz2sql5Mm3N1yGIO7z2QAqzUR0btTxv+/dgkm8E1QtZLae//FraYgUME55mRYUuhdWPvSJvj8Hhge9pE1VfSJo+/HrhRVZ03qfbOldGhIv32hrSu/ZsA/85Vk6FXpn2wPKMWeTGCtOo+G9BWVK+RoTaPpV25O442XOmyxXis+vDSW9KeQ2+iVYzaj/aB8vSq+r+0RbzfWVWHTK6l88v0IZO9B+JHtKvCL6yqbzms8irThno/ibYY+ufTFsh9CO25d0Q/cdmQ9rl80gSbPKeSvJpWuOlU2vIQlya5KfBzWsGdL0y0gfNcklvR3rc+TivYcBPacNNvpVWIvQVwVFV9fYLNnKjew/J0WrGPvavqh337N2lVYX+wmN+z+siNU/vXd6Jd6HhhVZ3dbz+HViDl49WKq7nczSxY5GL+CVDAKtUmDX46yZq0q52PrKpLkjyXtijsv1XVWRNs65wZCQfb0yaI/wF4Oe3k5CJaCP0VbajSmYsxMIzqHyivpg2pubxvSzVf6UPejqtFUhBlJv0D5dQ+HOmzVXVi2jpqz6VVRQqtQtJvJ9nO+aCPxb9BVR0zw0nIMbSrxJ+uqm+BPQyjRsLVC2jFdnbt29+d5AJa78LbkvxvteqBK7zRk9mqekuS82jH5p5Jfl1V5yT5JO31pyVIci/aMi0nVdXXkvyENp9vm7SqbvuPPP8WbYCoqj8k+ShtrtU2PZQeA9weOLPvsyiPTfeBJBtU1d1px+MC4F1pFRV/21+LXwLOT/LeqjrPcLVs9mDNE0nuWlVH96+fT1tR/Bu0YYDH0d4M3k7rin0OsEstjkWER6/+7kw7Bj/sd/8XbWLqW2m9Vgf0oTaLWpJbAwfRShg/aVrP36L9kF2S/rzag/Z62wF4eVX9T79v1T7MZNHqc2PeCJxIW4Po9cDVyhcn+bd+tdPn1wzSFg/+L9oaMhcAj6IVB3kvLVg8gPZaXTTrXCV5EO0YfL+qjutD2R4GfA84gdYr8+TqC+Pq6vrx+xxtePNzgW2r6hv9guwewG2AN1fV6RNs5sTl6oVSbk8LoDsBv6OdMyzmnr3R86sf0S5OPy7JOsBrafP6ngasTxvt8qqyKuysGbDmgd6b8FnakMD/AJ5Pe9O8K61b9gO0q1Rvpl3Re/lUGFss0soZ35EWsC6nFfh4OO1Ffxytt+btVbVoy88C9HlVpyd5Ie1D5KW00v1eCV6CfkLyWGA72hCIb/TtU3NmFu2bZJ+n9kFaINiKVvHuYNpr7Q+TbNt8NlPQTCtt/EDgKK6aN3tBVT1/KqDOdTvn2sgQ+HvRhrQdRwucP66qj/Uhba8Evg4cXH3JCF1dDwp709ac+2aSHWnHc9fek7UmcNNqRVUWnbQCWP8ELu0Xfkar320MPIO2WPXvJ9nO+SJt+YNtgT1pr8Xt0wqHvQW4N22B6pdOfTZqdgxY80Ta2ihvBx4EPLeqvt/nNmxHWyflgN7Nff1ahOsNJPk87SR4o6o6Ncm6tBO+x9F6sH66WE+ER05a7gK8EPhuVX2uz/F4MK1E71GL9fjM1tSHsL0wV1nKPLXr0YafHjPB5s1L064Kbw/cAPgzbY7oo2jzY05OshNtDtZzFtPzLckWtCqKr6iq3/Qe5PsCv+kha0/gyKr62UQbOo8leSbwZOAXwBuq6vw+t/ZLwGNrkZWxT1v+YMeqeleSrWnFGX4A3IVWqfPYaSFrjWrVFRe9JHenXdDYiXax4920eaKP6Pc/CDirXAdyuRmw5pEesg4C1qyq+/Ztd6GtzXAx8KaqunhyLZwb005QblBXrYnyOVolxbv2QLE+7YrwD6vqtMm1ePL6MK6X0eZVXgR8rIesF9OuTL2yLD+7VAarJevz1M6oqvcneTJtSNKTahFWn5ytJC+jBaof0Ia+vWVqjlqS59Cuoj9tsYXUtHXSDqW9J707rSLZDrQLZr+sqo9MtIELQB/1sgtwT9ow+S9W1QW9J+v8qjpsog2cY0luQytD/ynaZ+BXq+rHfd7jq4AH+l41s7Tqr3tU1XNGtv0W+EtVPXxiDVsBWKZ9Hqmqv9OqBZ6ctgI7fbzrp4D3L8JwtSfw9iTvSrJ6Ve1Cm4t2RN/vFOAgw1VuThtWs0dV3Q/4IvCgJI+vqvfS1r/SMhiuluoY4DE9NDybNlzEE5YRU0NK+9e3BDavqgcDl9CGK30nyRp9juTGLMJwBVBV36YFqqcn2aX3KhwMfJ9WjVJL0XtiLqddjD0G2Iy2LuQaVXVwVR02+lxc0fXjcTJwL1op9i2B09Kq3H2ANvdxtwk2cd6Z9vxYGdgyyaYj2z4B/HuSzee0YSsYA9YEzPTmNzLf43zaCcwFSb7Tt/22Fk+1wKlw9Vxa2HwbbVLqx5NsWFW70cpBT30QO7eoncCtxFXrD/1n//9FSR5VVW+390rX0aG0D9370CbO/89kmzP/jLx33Ya2Nt9laVUp7w88pp8Ub0M7oXnVYgxXU6ote/By4GVJnlJtjavPOQxpZkk2TbIVXLkO0co9mP4XrSDIXWjDeOn7LIqLRf1C62VpC+GeQ5tSsTKtOMpUlbvTaNMsFrUkN0vyxD4qqEbOOY+izf3/fpLHJHkCrcf9wVV15CTbvNAZsObYtB6ajfvY4au9IVbVP4AXAH/qcyAWlT5B9+60RSgfRyu/fhlwQA9Z29EWX140HyRLU1Xn0sbePyTJnapVvfsKbaHlndLK9UrXWrWyvJ8EnlCtUtmiuUK+PNKWR3gDsA6tStkmtLWcLkkr1LMPcHEt8sqUAFV1KO1YvTLJrZJ4PjJi6jWWVhDkJcALkzwQoKouz1XrEO1PKzpz6uRaOxk9KGwLfBrYtKr+QpurvUOSLyR5BvBMrqo8vCj159JWtOD0+D6Xv/pQU6rq/bS1r7ainVt9tCxidJ05B2tCkryC1kNzU9pCdx+dYZ9FOyckyfWAOwDvq6oH9zeIM2kfJq/3BOXqehDfg7bQ5C9pC1Q/iVZq9XVV9esJNk8riMX8njQbadXd3korCPJX4Hm0YUu/os0X3clemqtLsk5VnTnpdsxHSbYB3kPrPb4n7aLZwVNzrLLIF3vt84c+ATy+2sLw69Pmq18C/IT2GnxRtbWcFv17V1rhq01oI4C+VFUXjxb/6PtY7GkgLjQ8R6b1XK0GbERb+2RT4KC0tRquNrl3MT+5+wv/AmCV3v1/G9r6KP9huLqmapUV30mrxrUZLWDdANiA9iEjXWeL+T1paZLctqpOqKrj+9DuD9OuBr+JVqFrdeCtVfXnSbZzPjJczawX/3go8Opqi8PfFng08LQkF1TVjxdzuOouBo6mjd6Yqsq5Eq1ndBvgNlX1W/C9K8kjaEMoixayrpfkoKq6cDSoT4WtxX68hmAP1hyYoXDDHWkB6ylVdUYfAvAJWin290yupfNL78V6Ea1b+1a0q1THTbRRC0SSB9OupO9h75U0Pkn+HXgFbTTC7rRSx8+nLR3xvUm2TQtbkvfQ1sDcuaquSCup/SHgSGC/qjp+og2csCQ3BJ4KPBF4F3AsLWRdWFWfmFzL5pckN6Otrbp7tUW9nw3cCfgf4Cu1iBY4n0uOeZ4DI+HqQbTSqv9H+xB+cdrCsD+njRPeNa1Uu2i9WLThEU8HHm64Wi6/p82XMVxJA5pWLXAV2lyr59GKDbwTeA1t/bnHTKJ9WphG5lxtnGSzvvk9tKJOr+y3L6QVc1iXdpF2Uauqf1bVh4Atq+rLwJq0JSROmWzL5p1LaSPW1u63/5N2/v8y4InOfxwPe7DmSO++fhGwb1V9q09WfRStCt5+fYjX6l5JkKT5aQmjEc6jva9f2HsYNqQt1rkycA/gTIfbaDZ6wYY3AifSwtTbaGHqacCtaSfIj6IVgLqoqt45oabOK71Yw11pQ3PfUotsoeXZSPISWjXFL/c5aY+gVazea7H3hI6LAWtMZphzdTPgm8D/VtUeffv9aT1aZ9LeVKuqLDsuSfNYX0biCbShSb8EvksLWcf3+28LXNCrmknLlOTewAdpAWor4CPAZ4H3VtUfktyFdq5wO+AA4NFWertKkjWAm1XVHy3QcE29ENazgS2AI2jztJ9XVd+daMNWYAasMZgWrp4HrFVVb+4l2b9BW3V9n37/fYATq+qMSbVXkjQ7fRmJ9wCvo1WCfSRt3aub0dZ2+t1oVS5pNvoJ8C1p61m9iRbe96MVSHluVR3bg/u+tF6a306ssVqQktyItpbhnYCjqurwCTdphWbAGqMke9DmD+1YVaf0bbcEDgF+WFUvn2T7JEnLbynLSHyYthDzxRNtoBasJG8Gzqiq9yd5Mm1O0ZOnequSrFlV5020kZKWyTLtY9IXd90G2Bu4IMlzaGsUfQPYHjg4ydpVddYEmylJWk5LWUbiY4YrXUfHAHskWRXYAXhpHyK4UlVdYbiSFgZ7sMYoye7Ac2gVbY7t/29WVXskWdX1nCRpYXIZCY1DH4L6WNqaRR+vqm9MuEmSrgUD1hglWR24M22O1TlJdqZNMnwUbQK0B1+SFqjey3AL4IqqOm3S7dGKI8kqVXWZBRukhcmANQf6GgNPo13t3MXJqZIkaUkMVtLC5hysubE6bb2rnarqd5NujCRJmr8MV9LCZg/WHPFqlCRJkrTiM2BJkiRJ0kBWmnQDJEmSJGlFYcCSJEmSpIEYsCRJkiRpIAYsSZIkSRqIAUuSNOeSXJ7k6CS/TvLLJPcd4DH/eR2//4dJjhy5vXmSH17XdkmSFhcDliRpEi6sqrtW1WbAq4C3zuUPTzPTZ+DNkmwzl22RJK1YDFiSpElbEzgXrgw+70zy2yTHJHlC375fku36119J8vH+9dOTvHn6AyZ5eZIjkvwmyRv6tg2SHJ/kU8BvgfVnaMs7gdfM8HgbJPlx7227ssctyZZJDk/y30lOSvK2JLsm+UVv/8Z9v3WSfKm36Ygk9xvguEmS5qFVJt0ASdKidP0kRwOrA7cEHtK37wDcFdgMWBs4IsmPgB8DDwAOAdbt30PfdtDoAyd5OLAJsAUQ4JAkDwT+3Lc/pap+toR2/RR4bJIHA+ePbD8D2KqqLkqyCfA5YPN+32bAHYFzgJOAj1XVFkleCDwfeBHwfuC9VfWTJLcGDuvfI0lawRiwJEmTcGFV3RUgyX2ATyW5E3B/4HNVdTnwtySHA/ekBawXJdkUOA64SZJbAvcBXjDtsR/e//2q374hLVj9GTh5KeFqypuA1wKvHNm2KvChJHcFLgduN3LfEVV1ev9dTgS+3bcfAzy4f/0wYNMkU9+zZpIbVtV1mjcmSZp/DFiSpImqqp8mWRtYZyn7nJZkLWBr4EfATYGdgH9W1fnTdg/w1qr66NU2JhsA/5pFe76f5E3AvUc2vxj4G623aiXgopH7Lh75+oqR21dw1efsSsC9q2r0+yRJKyDnYEmSJirJHYCVgbNpPVVPSLJyknWABwK/6Lv+jDbcbmrI4Mv6/9MdBjw9yQ3746+b5GbL2aw3Aa8YuX1j4PSqugJ4Um/v8vg2bbggvU13Xc7vlyQtEPZgSZImYWoOFrQep6dU1eVJvkIb9vdroIBXVNVf+34/Bh5eVSckOZnWi3WNgFVV305yR+CnfUjeP4HdaEP7ZqWqDk1y5simDwNfSvJk4FvMoidsmhcA+yX5De2z90fAs5fzMSRJC0CqatJtkCRJkqQVgkMEJUmSJGkgBixJkiRJGogBS5IkSZIGYsCSJEmSpIEYsCRJkiRpIAYsSZIkSRqIAUuSJEmSBvL/23xro9sabbcAAAAASUVORK5CYII=\n",
       "datasetInfos": [],
       "metadata": {},
       "removedWidgets": [],
       "type": "image"
      }
     },
     "output_type": "display_data"
    }
   ],
   "source": [
    "import matplotlib.pyplot as plt\n",
    "\n",
    "economical_bowlers_pd = economical_bowlers_powerplay.toPandas()\n",
    "\n",
    "# Visualizing using Matplotlib\n",
    "plt.figure(figsize=(12, 8))\n",
    "# Limiting to top 10 for clarity in the plot\n",
    "top_economical_bowlers = economical_bowlers_pd.nsmallest(10, 'avg_runs_per_ball')\n",
    "plt.bar(top_economical_bowlers['player_name'], top_economical_bowlers['avg_runs_per_ball'], color='skyblue')\n",
    "plt.xlabel('Bowler Name')\n",
    "plt.ylabel('Average Runs per Ball')\n",
    "plt.title('Most Economical Bowlers in Powerplay Overs (Top 10)')\n",
    "plt.xticks(rotation=45)\n",
    "plt.tight_layout()\n",
    "plt.show()\n",
    "\n",
    "     "
   ]
  }
 ],
 "metadata": {
  "application/vnd.databricks.v1+notebook": {
   "dashboards": [],
   "language": "python",
   "notebookMetadata": {
    "pythonIndentUnit": 4
   },
   "notebookName": "ipl-data-analysis",
   "widgets": {}
  }
 },
 "nbformat": 4,
 "nbformat_minor": 0
}
