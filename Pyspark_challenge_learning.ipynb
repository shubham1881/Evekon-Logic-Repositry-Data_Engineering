{
  "nbformat": 4,
  "nbformat_minor": 0,
  "metadata": {
    "colab": {
      "provenance": [],
      "authorship_tag": "ABX9TyOXjNhxmmIyDVdLbZCCOHMK",
      "include_colab_link": true
    },
    "kernelspec": {
      "name": "python3",
      "display_name": "Python 3"
    },
    "language_info": {
      "name": "python"
    }
  },
  "cells": [
    {
      "cell_type": "markdown",
      "metadata": {
        "id": "view-in-github",
        "colab_type": "text"
      },
      "source": [
        "<a href=\"https://colab.research.google.com/github/shubham1881/Evekon-Logic-Repositry-Data_Engineering/blob/main/Pyspark_challenge_learning.ipynb\" target=\"_parent\"><img src=\"https://colab.research.google.com/assets/colab-badge.svg\" alt=\"Open In Colab\"/></a>"
      ]
    },
    {
      "cell_type": "code",
      "execution_count": 1,
      "metadata": {
        "colab": {
          "base_uri": "https://localhost:8080/",
          "height": 219
        },
        "id": "fr1guVhavmQg",
        "outputId": "39f52748-0794-4e5b-a721-f08a423356f5"
      },
      "outputs": [
        {
          "output_type": "execute_result",
          "data": {
            "text/plain": [
              "<pyspark.sql.session.SparkSession at 0x787e203292a0>"
            ],
            "text/html": [
              "\n",
              "            <div>\n",
              "                <p><b>SparkSession - in-memory</b></p>\n",
              "                \n",
              "        <div>\n",
              "            <p><b>SparkContext</b></p>\n",
              "\n",
              "            <p><a href=\"http://a6d431c604d2:4040\">Spark UI</a></p>\n",
              "\n",
              "            <dl>\n",
              "              <dt>Version</dt>\n",
              "                <dd><code>v3.1.1</code></dd>\n",
              "              <dt>Master</dt>\n",
              "                <dd><code>local[*]</code></dd>\n",
              "              <dt>AppName</dt>\n",
              "                <dd><code>pyspark-shell</code></dd>\n",
              "            </dl>\n",
              "        </div>\n",
              "        \n",
              "            </div>\n",
              "        "
            ]
          },
          "metadata": {},
          "execution_count": 1
        }
      ],
      "source": [
        "!apt-get install openjdk-8-jdk-headless -qq > /dev/null\n",
        "!wget -q http://archive.apache.org/dist/spark/spark-3.1.1/spark-3.1.1-bin-hadoop3.2.tgz\n",
        "!tar xf spark-3.1.1-bin-hadoop3.2.tgz\n",
        "!pip install -q findspark\n",
        "import os\n",
        "os.environ[\"JAVA_HOME\"] = \"/usr/lib/jvm/java-8-openjdk-amd64\"\n",
        "os.environ[\"SPARK_HOME\"] = \"/content/spark-3.1.1-bin-hadoop3.2\"\n",
        "import findspark\n",
        "findspark.init()\n",
        "from pyspark.sql import SparkSession\n",
        "spark = SparkSession.builder.master(\"local[*]\").getOrCreate()\n",
        "spark"
      ]
    },
    {
      "cell_type": "code",
      "source": [
        "df=spark.read.csv(\"/challenge.csv\",header=True)\n",
        "from pyspark.sql.functions import *\n",
        "df.show()"
      ],
      "metadata": {
        "colab": {
          "base_uri": "https://localhost:8080/"
        },
        "id": "l5ERdJsT-ZQx",
        "outputId": "f71fbb7b-0393-4013-c0d4-907191b78aa9"
      },
      "execution_count": 11,
      "outputs": [
        {
          "output_type": "stream",
          "name": "stdout",
          "text": [
            "+---------------+--------------+-----------------+----------+\n",
            "|     ip_address|       Country|      Domain Name|Bytes_used|\n",
            "+---------------+--------------+-----------------+----------+\n",
            "|  52.81.192.172|         China| odnoklassniki.ru|       463|\n",
            "| 119.239.207.13|         China|         youtu.be|        51|\n",
            "|  68.69.217.210|         China|        adobe.com|        10|\n",
            "|   7.191.21.223|      Bulgaria|     linkedin.com|       853|\n",
            "|   211.13.10.68|     Indonesia|          hud.gov|        29|\n",
            "|   239.80.21.97|      Suriname|       smh.com.au|       218|\n",
            "|106.214.106.233|       Jamaica|    amazonaws.com|        95|\n",
            "| 127.242.24.138|         China| surveymonkey.com|       123|\n",
            "|     99.2.6.139|Czech Republic|     geocities.jp|       322|\n",
            "|   237.54.11.63|         China|       amazon.com|        83|\n",
            "| 252.141.157.25|         Japan|      cornell.edu|       374|\n",
            "|185.220.128.248|       Belgium|       weebly.com|       389|\n",
            "|   151.77.19.45|   Afghanistan|independent.co.uk|       282|\n",
            "|  9.161.158.225|     Indonesia|    bloglines.com|       726|\n",
            "| 156.144.61.155|Czech Republic|   slideshare.net|       657|\n",
            "|   8.96.188.151|     Indonesia|          ibm.com|       517|\n",
            "|      5.72.7.65|        Mexico|         youtu.be|       877|\n",
            "|227.110.112.144|       Croatia|         ehow.com|       287|\n",
            "|    81.71.28.97|      Thailand|          last.fm|       588|\n",
            "|  9.255.129.184|      Thailand|          mtv.com|       114|\n",
            "+---------------+--------------+-----------------+----------+\n",
            "only showing top 20 rows\n",
            "\n"
          ]
        }
      ]
    },
    {
      "cell_type": "code",
      "source": [
        "df2=df.withColumn('Mexico_home',when(df.Country == 'China','Yes').otherwise(\"no\"))\n",
        "df2.show()"
      ],
      "metadata": {
        "colab": {
          "base_uri": "https://localhost:8080/"
        },
        "id": "YDmZ4akW_AjX",
        "outputId": "3251b9a4-af26-4ac7-8c78-ddb2dadff88a"
      },
      "execution_count": 14,
      "outputs": [
        {
          "output_type": "stream",
          "name": "stdout",
          "text": [
            "+---------------+--------------+-----------------+----------+-----------+\n",
            "|     ip_address|       Country|      Domain Name|Bytes_used|Mexico_home|\n",
            "+---------------+--------------+-----------------+----------+-----------+\n",
            "|  52.81.192.172|         China| odnoklassniki.ru|       463|        Yes|\n",
            "| 119.239.207.13|         China|         youtu.be|        51|        Yes|\n",
            "|  68.69.217.210|         China|        adobe.com|        10|        Yes|\n",
            "|   7.191.21.223|      Bulgaria|     linkedin.com|       853|         no|\n",
            "|   211.13.10.68|     Indonesia|          hud.gov|        29|         no|\n",
            "|   239.80.21.97|      Suriname|       smh.com.au|       218|         no|\n",
            "|106.214.106.233|       Jamaica|    amazonaws.com|        95|         no|\n",
            "| 127.242.24.138|         China| surveymonkey.com|       123|        Yes|\n",
            "|     99.2.6.139|Czech Republic|     geocities.jp|       322|         no|\n",
            "|   237.54.11.63|         China|       amazon.com|        83|        Yes|\n",
            "| 252.141.157.25|         Japan|      cornell.edu|       374|         no|\n",
            "|185.220.128.248|       Belgium|       weebly.com|       389|         no|\n",
            "|   151.77.19.45|   Afghanistan|independent.co.uk|       282|         no|\n",
            "|  9.161.158.225|     Indonesia|    bloglines.com|       726|         no|\n",
            "| 156.144.61.155|Czech Republic|   slideshare.net|       657|         no|\n",
            "|   8.96.188.151|     Indonesia|          ibm.com|       517|         no|\n",
            "|      5.72.7.65|        Mexico|         youtu.be|       877|         no|\n",
            "|227.110.112.144|       Croatia|         ehow.com|       287|         no|\n",
            "|    81.71.28.97|      Thailand|          last.fm|       588|         no|\n",
            "|  9.255.129.184|      Thailand|          mtv.com|       114|         no|\n",
            "+---------------+--------------+-----------------+----------+-----------+\n",
            "only showing top 20 rows\n",
            "\n"
          ]
        }
      ]
    },
    {
      "cell_type": "code",
      "source": [
        "df3=df2.groupBy('Mexico_home').agg(sum(df2.Bytes_used))\n",
        "df3.show()"
      ],
      "metadata": {
        "colab": {
          "base_uri": "https://localhost:8080/"
        },
        "id": "4W-gBymHCRRz",
        "outputId": "8da0d005-1b04-4815-8b03-8b1e0c17e56e"
      },
      "execution_count": 15,
      "outputs": [
        {
          "output_type": "stream",
          "name": "stdout",
          "text": [
            "+-----------+---------------+\n",
            "|Mexico_home|sum(Bytes_used)|\n",
            "+-----------+---------------+\n",
            "|        Yes|        83398.0|\n",
            "|         no|       430971.0|\n",
            "+-----------+---------------+\n",
            "\n"
          ]
        }
      ]
    },
    {
      "cell_type": "code",
      "source": [
        "df4=df.groupBy('Country').agg(countDistinct(df.ip_address).alias(\"Distinct_count\"))\n",
        "df4.sort(col(\"Distinct_count\").desc()).show()\n"
      ],
      "metadata": {
        "colab": {
          "base_uri": "https://localhost:8080/"
        },
        "id": "z8xDNqt0CnFy",
        "outputId": "1e594f7b-5980-4a93-c0a8-1c93b65c6d23"
      },
      "execution_count": 20,
      "outputs": [
        {
          "output_type": "stream",
          "name": "stdout",
          "text": [
            "+--------------+--------------+\n",
            "|       Country|Distinct_count|\n",
            "+--------------+--------------+\n",
            "|         China|           172|\n",
            "|     Indonesia|           114|\n",
            "|   Philippines|            65|\n",
            "|        Russia|            56|\n",
            "|        Brazil|            35|\n",
            "|        Poland|            31|\n",
            "|        Sweden|            28|\n",
            "|         Japan|            25|\n",
            "|Czech Republic|            23|\n",
            "|      Portugal|            23|\n",
            "|        France|            21|\n",
            "|          Peru|            19|\n",
            "|      Colombia|            17|\n",
            "| United States|            15|\n",
            "|     Argentina|            14|\n",
            "|       Ukraine|            14|\n",
            "|        Mexico|            13|\n",
            "|      Thailand|            12|\n",
            "|       Nigeria|            11|\n",
            "|        Canada|            11|\n",
            "+--------------+--------------+\n",
            "only showing top 20 rows\n",
            "\n"
          ]
        }
      ]
    },
    {
      "cell_type": "markdown",
      "source": [
        "# New Section"
      ],
      "metadata": {
        "id": "uFVQ_qHN8Qkq"
      }
    }
  ]
}